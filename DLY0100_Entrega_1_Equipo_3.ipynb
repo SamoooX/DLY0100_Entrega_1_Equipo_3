{
  "nbformat": 4,
  "nbformat_minor": 0,
  "metadata": {
    "colab": {
      "provenance": []
    },
    "kernelspec": {
      "name": "python3",
      "display_name": "Python 3"
    },
    "language_info": {
      "name": "python"
    }
  },
  "cells": [
    {
      "cell_type": "markdown",
      "source": [
        "# Evaluación 1 - Entrenando redes feedforward\n",
        "\n",
        "**Autores:**\n",
        "\n",
        "+ Matias Aniñir\n",
        "+ Samuel Garrido\n",
        "\n",
        "**Correos Electrónicos:**\n",
        "\n",
        "+ mat.aninir@duocuc.cl\n",
        "+ sam.garrido@duocuc.cl\n",
        "\n",
        "**Fecha de Creación:** Abril de 2025  \n",
        "**Versión:** 1.0  \n",
        "\n",
        "---\n",
        "\n",
        "## Descripción\n",
        "\n",
        "Este notebook contiene el desarrollo de la evaluación 1 de la asignatura de Deep Learning de la carrera de Ingeniería en Informática de DuocUC sede Concepción.\n",
        "\n",
        "---\n",
        "\n",
        "## Requisitos de Software\n",
        "\n",
        "Este notebook fue desarrollado con Python 3.10"
      ],
      "metadata": {
        "id": "UN-PzEVlUarQ"
      }
    },
    {
      "cell_type": "markdown",
      "source": [
        "#Introducción"
      ],
      "metadata": {
        "id": "GvqolHhbhOzR"
      }
    },
    {
      "cell_type": "markdown",
      "source": [
        "##Descripción del problema y objetivos"
      ],
      "metadata": {
        "id": "qjQJSQaLhedY"
      }
    },
    {
      "cell_type": "markdown",
      "source": [
        "El proyecto se centra en la clasificación automática de imágenes que contienen dígitos manuscritos. El objetivo principal es diseñar e implementar una red neuronal multicapa (MLP) capaz de reconocer correctamente cada número y maximizar métricas de desempeño. Para ello, se partirá de un modelo base y, mediante un proceso de experimentación controlada, se evaluará sistemáticamente cómo cada ajuste de hiperparámetro afecta la capacidad de generalización del clasificador."
      ],
      "metadata": {
        "id": "acREg5PzmT0W"
      }
    },
    {
      "cell_type": "markdown",
      "source": [
        "##Justificación del enfoque"
      ],
      "metadata": {
        "id": "y_r9RZKIhjvb"
      }
    },
    {
      "cell_type": "markdown",
      "source": [
        "Se ha optado por emplear un perceptrón multicapa (MLP) dado su equilibrio entre sencillez y eficacia en problemas de reconocimiento de dígitos. La implementación se realizará con TensorFlow/Keras, utilizando optimizadores modernos (por ejemplo, Adam y SGD) y técnicas de regularización como dropout. La metodología de trabajo consistirá en partir de un modelo base y, en cada iteración, modificar únicamente un parámetro para aislar su impacto en el rendimiento. La configuración que obtenga el mejor desempeño en cada experimento se mantendrá como punto de partida para la siguiente prueba, repitiendo este ciclo hasta converger en la arquitectura y los valores de hiperparámetros óptimos."
      ],
      "metadata": {
        "id": "f7KJK8jOmVT2"
      }
    },
    {
      "cell_type": "markdown",
      "source": [
        "# Carga de datos"
      ],
      "metadata": {
        "id": "ENUt5lPZVB7S"
      }
    },
    {
      "cell_type": "markdown",
      "source": [
        "En esta sección se muestra cómo descargar y cargar el conjunto de datos MNIST, que contiene imágenes de dígitos manuscritos y sus etiquetas. Se define una función para leer tanto las imágenes como las etiquetas desde los archivos comprimidos, y luego se normalizan y codifican adecuadamente.\n"
      ],
      "metadata": {
        "id": "Hx717-N3mdul"
      }
    },
    {
      "cell_type": "code",
      "source": [
        "!rm -f train-images-idx3-ubyte.gz train-labels-idx1-ubyte.gz t10k-images-idx3-ubyte.gz t10k-labels-idx1-ubyte.gz\n",
        "\n",
        "!wget https://storage.googleapis.com/cvdf-datasets/mnist/train-images-idx3-ubyte.gz\n",
        "!wget https://storage.googleapis.com/cvdf-datasets/mnist/train-labels-idx1-ubyte.gz\n",
        "!wget https://storage.googleapis.com/cvdf-datasets/mnist/t10k-images-idx3-ubyte.gz\n",
        "!wget https://storage.googleapis.com/cvdf-datasets/mnist/t10k-labels-idx1-ubyte.gz\n"
      ],
      "metadata": {
        "colab": {
          "base_uri": "https://localhost:8080/"
        },
        "id": "kxMJlHIbbGrZ",
        "outputId": "ec093e5a-b6d3-4e2f-a3aa-ff72f16949d9"
      },
      "execution_count": null,
      "outputs": [
        {
          "output_type": "stream",
          "name": "stdout",
          "text": [
            "--2025-04-13 17:02:22--  https://storage.googleapis.com/cvdf-datasets/mnist/train-images-idx3-ubyte.gz\n",
            "Resolving storage.googleapis.com (storage.googleapis.com)... 173.194.217.207, 108.177.12.207, 108.177.11.207, ...\n",
            "Connecting to storage.googleapis.com (storage.googleapis.com)|173.194.217.207|:443... connected.\n",
            "HTTP request sent, awaiting response... 200 OK\n",
            "Length: 9912422 (9.5M) [application/x-gzip]\n",
            "Saving to: ‘train-images-idx3-ubyte.gz’\n",
            "\n",
            "train-images-idx3-u 100%[===================>]   9.45M  30.4MB/s    in 0.3s    \n",
            "\n",
            "2025-04-13 17:02:22 (30.4 MB/s) - ‘train-images-idx3-ubyte.gz’ saved [9912422/9912422]\n",
            "\n",
            "--2025-04-13 17:02:22--  https://storage.googleapis.com/cvdf-datasets/mnist/train-labels-idx1-ubyte.gz\n",
            "Resolving storage.googleapis.com (storage.googleapis.com)... 173.194.217.207, 108.177.12.207, 108.177.11.207, ...\n",
            "Connecting to storage.googleapis.com (storage.googleapis.com)|173.194.217.207|:443... connected.\n",
            "HTTP request sent, awaiting response... 200 OK\n",
            "Length: 28881 (28K) [application/x-gzip]\n",
            "Saving to: ‘train-labels-idx1-ubyte.gz’\n",
            "\n",
            "train-labels-idx1-u 100%[===================>]  28.20K  --.-KB/s    in 0.003s  \n",
            "\n",
            "2025-04-13 17:02:22 (9.59 MB/s) - ‘train-labels-idx1-ubyte.gz’ saved [28881/28881]\n",
            "\n",
            "--2025-04-13 17:02:22--  https://storage.googleapis.com/cvdf-datasets/mnist/t10k-images-idx3-ubyte.gz\n",
            "Resolving storage.googleapis.com (storage.googleapis.com)... 173.194.217.207, 108.177.12.207, 108.177.11.207, ...\n",
            "Connecting to storage.googleapis.com (storage.googleapis.com)|173.194.217.207|:443... connected.\n",
            "HTTP request sent, awaiting response... 200 OK\n",
            "Length: 1648877 (1.6M) [application/x-gzip]\n",
            "Saving to: ‘t10k-images-idx3-ubyte.gz’\n",
            "\n",
            "t10k-images-idx3-ub 100%[===================>]   1.57M  7.40MB/s    in 0.2s    \n",
            "\n",
            "2025-04-13 17:02:23 (7.40 MB/s) - ‘t10k-images-idx3-ubyte.gz’ saved [1648877/1648877]\n",
            "\n",
            "--2025-04-13 17:02:23--  https://storage.googleapis.com/cvdf-datasets/mnist/t10k-labels-idx1-ubyte.gz\n",
            "Resolving storage.googleapis.com (storage.googleapis.com)... 173.194.217.207, 108.177.12.207, 108.177.11.207, ...\n",
            "Connecting to storage.googleapis.com (storage.googleapis.com)|173.194.217.207|:443... connected.\n",
            "HTTP request sent, awaiting response... 200 OK\n",
            "Length: 4542 (4.4K) [application/x-gzip]\n",
            "Saving to: ‘t10k-labels-idx1-ubyte.gz’\n",
            "\n",
            "t10k-labels-idx1-ub 100%[===================>]   4.44K  --.-KB/s    in 0s      \n",
            "\n",
            "2025-04-13 17:02:23 (29.8 MB/s) - ‘t10k-labels-idx1-ubyte.gz’ saved [4542/4542]\n",
            "\n"
          ]
        }
      ]
    },
    {
      "cell_type": "code",
      "source": [
        "!ls -lh"
      ],
      "metadata": {
        "colab": {
          "base_uri": "https://localhost:8080/"
        },
        "id": "Gqalukc4a-h-",
        "outputId": "c48e3777-0d09-47a3-bbf3-39ba39a0c8df"
      },
      "execution_count": null,
      "outputs": [
        {
          "output_type": "stream",
          "name": "stdout",
          "text": [
            "total 12M\n",
            "drwxr-xr-x 1 root root 4.0K Apr 10 13:37 sample_data\n",
            "-rw-r--r-- 1 root root 1.6M Apr  6  2017 t10k-images-idx3-ubyte.gz\n",
            "-rw-r--r-- 1 root root 4.5K Apr  6  2017 t10k-labels-idx1-ubyte.gz\n",
            "-rw-r--r-- 1 root root 9.5M Apr  6  2017 train-images-idx3-ubyte.gz\n",
            "-rw-r--r-- 1 root root  29K Apr  6  2017 train-labels-idx1-ubyte.gz\n"
          ]
        }
      ]
    },
    {
      "cell_type": "code",
      "source": [
        "import gzip\n",
        "import shutil\n",
        "import struct\n",
        "import numpy as np\n",
        "import matplotlib.pyplot as plt\n",
        "import tensorflow as tf\n",
        "\n",
        "from tensorflow import keras\n",
        "# Asegurar que las etiquetas están en formato correcto\n",
        "from keras.utils import to_categorical"
      ],
      "metadata": {
        "id": "1pe8o5xqVHCb"
      },
      "execution_count": null,
      "outputs": []
    },
    {
      "cell_type": "markdown",
      "source": [
        "# Carga y Preprocesamiento de Datos"
      ],
      "metadata": {
        "id": "RhqgOKDsi_KF"
      }
    },
    {
      "cell_type": "markdown",
      "source": [
        "##Preprocesamiento"
      ],
      "metadata": {
        "id": "foeYo7oJh9_a"
      }
    },
    {
      "cell_type": "code",
      "source": [
        "# Función para cargar imágenes MNIST\n",
        "def load_mnist_images(filename):\n",
        "    with gzip.open(filename, 'rb') as f:\n",
        "        data = np.frombuffer(f.read(), np.uint8, offset=16)  # Saltar los primeros 16 bytes del encabezado\n",
        "    return data.reshape(-1, 28 * 28).astype(\"float32\") / 255.0  # Aplanar y normalizar\n",
        "\n",
        "# Función para cargar etiquetas MNIST\n",
        "def load_mnist_labels(filename):\n",
        "    with gzip.open(filename, 'rb') as f:\n",
        "        labels = np.frombuffer(f.read(), np.uint8, offset=8)  # Saltar los primeros 8 bytes del encabezado\n",
        "    return keras.utils.to_categorical(labels, 10)  # One-hot encoding para clasificación\n",
        "\n",
        "# Cargar los datos\n",
        "X_train = load_mnist_images(\"train-images-idx3-ubyte.gz\")\n",
        "y_train = load_mnist_labels(\"train-labels-idx1-ubyte.gz\")\n",
        "X_test = load_mnist_images(\"t10k-images-idx3-ubyte.gz\")\n",
        "y_test = load_mnist_labels(\"t10k-labels-idx1-ubyte.gz\")\n",
        "\n",
        "# Verificar dimensiones\n",
        "print(f\"X_train: {X_train.shape}, y_train: {y_train.shape}\")\n",
        "print(f\"X_test: {X_test.shape}, y_test: {y_test.shape}\")\n"
      ],
      "metadata": {
        "colab": {
          "base_uri": "https://localhost:8080/"
        },
        "id": "Li3QsYm-UKEq",
        "outputId": "e512ef46-37f1-4824-9d58-1a5963a0191d"
      },
      "execution_count": null,
      "outputs": [
        {
          "output_type": "stream",
          "name": "stdout",
          "text": [
            "X_train: (60000, 784), y_train: (60000, 10)\n",
            "X_test: (10000, 784), y_test: (10000, 10)\n"
          ]
        }
      ]
    },
    {
      "cell_type": "markdown",
      "source": [
        "La estructura del preprocesamiento aplicado se justifica en función de los requerimientos del modelo MLP y de buenas prácticas en Deep Learning. En primer lugar, el aplanado de las imágenes es necesario ya que el MLP requiere vectores unidimensionales como entrada; por ello, cada imagen de 28×28 píxeles se transforma en un vector de 784 componentes. En segundo lugar, se aplica una normalización dividiendo los valores de los píxeles por 255.0, lo cual reescala la información al rango [0,1]. Esta transformación favorece una convergencia más rápida durante el entrenamiento y previene problemas de saturación en las funciones de activación. Finalmente, se utiliza codificación one-hot para representar las etiquetas de clase, lo que permite calcular adecuadamente la función de pérdida categorical_crossentropy, comúnmente utilizada en tareas de clasificación multiclase."
      ],
      "metadata": {
        "id": "gehTgYzumj-c"
      }
    },
    {
      "cell_type": "markdown",
      "source": [
        "##Muestra imágenes"
      ],
      "metadata": {
        "id": "XDdBrx6ji1tV"
      }
    },
    {
      "cell_type": "markdown",
      "source": [
        "Se visualizan ejemplos aleatorios y se examina la distribución de clases para entender mejor el conjunto de datos."
      ],
      "metadata": {
        "id": "w99phZeemnS1"
      }
    },
    {
      "cell_type": "code",
      "source": [
        "H = 6\n",
        "W = 6\n",
        "\n",
        "fig, axs = plt.subplots(H, W, figsize=(1.8*H,1.8*W))\n",
        "for i in range(H):\n",
        "  for j in range(W):\n",
        "    ex = np.random.randint(len(X_train))\n",
        "    label = np.argmax(y_train[ex])\n",
        "    axs[i,j].set_title(\"Etiqueta: \" + str(label))\n",
        "    axs[i,j].grid(False)\n",
        "    axs[i,j].set_xticklabels([])\n",
        "    axs[i,j].set_yticklabels([])\n",
        "    axs[i,j].imshow(X_train[ex].reshape(28, 28))"
      ],
      "metadata": {
        "id": "CUqCJOJRUXRo",
        "colab": {
          "base_uri": "https://localhost:8080/",
          "height": 895
        },
        "outputId": "2d15b3bf-aed9-4fc1-d8e6-963c09b4a07b"
      },
      "execution_count": null,
      "outputs": [
        {
          "output_type": "display_data",
          "data": {
            "text/plain": [
              "<Figure size 1080x1080 with 36 Axes>"
            ],
            "image/png": "[encoded data removed]"
          },
          "metadata": {}
        }
      ]
    },
    {
      "cell_type": "code",
      "source": [
        "# Obtener la cantidad de cada clase\n",
        "class_counts = pd.Series(np.argmax(y_train, axis=1)).value_counts().sort_index()\n",
        "\n",
        "# Calcular el porcentaje de cada clase\n",
        "class_percentages = round((class_counts / len(y_train)) * 100, 1)\n",
        "\n",
        "# Crear una tabla con la información\n",
        "data = {'Cantidad': class_counts, 'Porcentaje': class_percentages}\n",
        "df = pd.DataFrame(data)\n",
        "df.index.name = 'Clase'\n",
        "\n",
        "# Mostrar la tabla\n",
        "display(df)"
      ],
      "metadata": {
        "id": "OcGP7KX1msbv"
      },
      "execution_count": null,
      "outputs": []
    },
    {
      "cell_type": "markdown",
      "source": [
        "Del análisis exploratorio se desprenden varias observaciones relevantes sobre el conjunto de datos. El set de entrenamiento está compuesto por 60 000 imágenes, mientras que el set de prueba contiene 10 000, lo que proporciona una base sólida para el entrenamiento y la evaluación del modelo. En cuanto a la distribución de clases, los dígitos del 0 al 9 se encuentran representados de manera prácticamente uniforme, con una proporción cercana al 10 % para cada clase, lo que garantiza un equilibrio que evita sesgos en el aprendizaje. Además, las muestras visualizadas evidencian una notable variabilidad en cuanto al tamaño, grosor del trazo y estilo de escritura, lo que representa un desafío adicional para el modelo, al tiempo que incrementa su capacidad de generalización si logra un buen desempeño.\n",
        "\n",
        "Al observar la matriz de ejemplos aleatorios, se ha identificado que el dígito \"1\" suele estar representado mediante una línea recta simple. Esta representación homogénea podría limitar la capacidad del modelo para generalizar correctamente cuando se le presenten variantes del número \"1\" dibujadas con mayor complejidad o estilo diferente, como aquellos trazos con serifas o inclinaciones. Esta falta de diversidad en la representación específica de dicha clase podría afectar negativamente el rendimiento del modelo frente a casos no vistos durante el entrenamiento."
      ],
      "metadata": {
        "id": "PNdL704Umub3"
      }
    },
    {
      "cell_type": "markdown",
      "source": [
        "#Definición del Modelo (Arquitectura MLP)"
      ],
      "metadata": {
        "id": "PFfhg9kuiDyp"
      }
    },
    {
      "cell_type": "markdown",
      "source": [
        "##Diseño de la red"
      ],
      "metadata": {
        "id": "OaGQURpiiKYV"
      }
    },
    {
      "cell_type": "markdown",
      "source": [
        "Para abordar la tarea de clasificación de imágenes de dígitos manuscritos, se ha definido una arquitectura basada en una red neuronal multicapa (MLP) compuesta por seis capas en total, incluyendo la capa de entrada y la de salida. La arquitectura se inicia con una capa de entrada que recibe vectores de 784 características (provenientes del aplanado de imágenes 28×28), seguida por cuatro capas ocultas densas con 256, 128, 64 y 32 neuronas respectivamente. Finalmente, se incorpora una capa de salida con 10 neuronas, correspondiente a las 10 clases posibles del dataset (dígitos del 0 al 9).\n",
        "\n",
        "La función de activación empleada en las capas ocultas es `ReLU` (Rectified Linear Unit), debido a su eficiencia computacional y su capacidad para mitigar el problema del desvanecimiento del gradiente, favoreciendo una convergencia más rápida y estable. En la capa de salida se utiliza la función `softmax`, la cual permite interpretar los valores de salida como probabilidades asociadas a cada clase.\n",
        "\n",
        "En cuanto a los optimizadores, se han considerado tres alternativas: `Adam`, `SGD`, y `SGD con momentum`. `Adam` se ha seleccionado como uno de los candidatos principales debido a su capacidad para adaptar automáticamente la tasa de aprendizaje de cada parámetro, acelerando la convergencia y ofreciendo buen rendimiento en una amplia variedad de problemas. Por su parte, `SGD` (Stochastic Gradient Descent) representa una alternativa clásica y robusta, que aunque más sensible a la configuración de hiperparámetros, puede ofrecer buenos resultados si se ajusta adecuadamente. Finalmente, la variante `SGD con momentum` ha sido incorporada debido a su capacidad para suavizar oscilaciones y acelerar el descenso en direcciones consistentes, mejorando así la eficiencia del entrenamiento."
      ],
      "metadata": {
        "id": "9U4V4DM6mzrj"
      }
    },
    {
      "cell_type": "markdown",
      "source": [
        "##Funciones de activación y de error"
      ],
      "metadata": {
        "id": "pbPOcxTSiLgR"
      }
    },
    {
      "cell_type": "markdown",
      "source": [
        "Como función de activación principal se ha utilizado `ReLU`, que consiste en transformar cualquier valor negativo a cero y mantener los positivos sin alteración. Esta función es especialmente útil en redes profundas porque permite una propagación eficiente del gradiente y reduce el riesgo de saturación. Adicionalmente, se ha incluido la función `sigmoide` en algunas pruebas, con el objetivo de comparar su rendimiento, tal como exige la rúbrica. A pesar de su limitada aplicabilidad en redes profundas debido al problema del desvanecimiento del gradiente, la función sigmoide resulta útil para observar cómo varía la convergencia del modelo frente a funciones más modernas como `ReLU`.\n",
        "\n",
        "Respecto a la función de pérdida, se ha utilizado `categorical_crossentropy`, ya que es la más adecuada para problemas de clasificación multiclase cuando las etiquetas están codificadas en formato `one-hot`, como en el presente caso. Esta función mide la disimilitud entre la distribución de probabilidad predicha por el modelo y la distribución real, penalizando con mayor fuerza las predicciones incorrectas. Adicionalmente, se ha incorporado la función `CategoricalFocalCrossentropy` con fines comparativos. Esta variante introduce un término de ponderación que reduce el impacto de las clases bien clasificadas y focaliza el aprendizaje en aquellas muestras más difíciles de predecir, lo que puede ser especialmente útil en escenarios con cierto grado de desbalance o cuando se desea fortalecer la capacidad del modelo para manejar ejemplos complejos. La comparación entre ambas funciones de pérdida permitirá analizar su impacto sobre la precisión, robustez y capacidad de generalización del modelo."
      ],
      "metadata": {
        "id": "wHlSPJwem21A"
      }
    },
    {
      "cell_type": "markdown",
      "source": [
        "##Incorporación de técnicas de optimización"
      ],
      "metadata": {
        "id": "QhIDr71FiLrW"
      }
    },
    {
      "cell_type": "markdown",
      "source": [
        "Para mejorar la capacidad de generalización del modelo y mitigar el sobreajuste, se ha incorporado la técnica de regularización dropout. Esta técnica consiste en desactivar aleatoriamente un porcentaje de neuronas durante el entrenamiento, lo que fuerza a la red a no depender excesivamente de nodos específicos y a aprender representaciones más robustas. Al reducir la co-adaptación entre neuronas, el dropout ayuda a mejorar el rendimiento en datos no vistos, especialmente en redes profundas. Este enfoque se integrará en distintas capas ocultas y se evaluará su impacto a través de experimentos comparativos con y sin su aplicación."
      ],
      "metadata": {
        "id": "Q3L9eQlYm5B9"
      }
    },
    {
      "cell_type": "markdown",
      "source": [
        "##Tabla resumen"
      ],
      "metadata": {
        "id": "at-qM_9Km8Kr"
      }
    },
    {
      "cell_type": "markdown",
      "source": [
        "A continuación se presenta la tabla resumen de las arquitecturas de prueba utilizadas durante el proceso experimental. En ella se detallan las distintas configuraciones evaluadas, destacando los cambios realizados en cada iteración. Las variables modificadas corresponden a los principales componentes que influyen en el rendimiento de una red neuronal, y se han ajustado de manera individual para asegurar un análisis controlado. Entre los elementos considerados se incluyen: el optimizador, la cantidad de épocas, el tamaño del batch, la función de activación, el uso o no de dropout, el número de capas, la función de salida, la tasa de aprendizaje y la función de pérdida. Esta estrategia permite observar con claridad el impacto que tiene cada parámetro sobre el desempeño del modelo."
      ],
      "metadata": {
        "id": "GGVMcA-Vm7zE"
      }
    },
    {
      "cell_type": "markdown",
      "source": [
        "| Experimento | Optimizer       | Épocas | Batch Size |F. activación| Dropout | N° de capas   | F. salida|Learning rate| F. de peridida|\n",
        "|-------------|-----------------|--------|------------|-------------|---------|--------------|----------|-------------|---------------|\n",
        "| Baseline    | Adam            |5      |32          |relu         |0        |6           | softmax | 0 |categorical_crossentropy|\n",
        "| Cambio 1    | **`SGD`**       |5      |32          |relu         |0        |6           | softmax | 0 |categorical_crossentropy|\n",
        "| Cambio 2    |**`SGD con Momentum`**|5      |32          |relu         |0        |6           | softmax | 0 |categorical_crossentropy|\n",
        "| Cambio 3    | SGD con Momentum|5      |32          |relu         |0        |6           | softmax | 0 |**`CategoricalFocalCrossentropy`**|\n",
        "| Cambio 4    | SGD con Momentum|5      |32          |relu         |0        |6           | **`sigmoid`** | 0 |categorical_crossentropy|\n",
        "| Cambio 5    | SGD con Momentum|5      |32          |**`sigmoid`**      |0        |6           | softmax |0| categorical_crossentropy|\n",
        "| Cambio 6    | SGD con Momentum|5      |32          |relu         |0        |6           | softmax | **`0.01`**| categorical_crossentropy|\n",
        "| Cambio 7    | SGD con Momentum|**`10`**      |32          |relu         |0        |6           | softmax |0.01| categorical_crossentropy|\n",
        "| Cambio 8    | SGD con Momentum|10      |**`64`**          |relu         |0        |6           | softmax |0.01| categorical_crossentropy|\n",
        "| Cambio 9    | SGD con Momentum|10      |64          |relu         |0        |`8`           | softmax |0.01| categorical_crossentropy|\n",
        "| Cambio 10    | SGD con Momentum|**`20`**      |64          |relu         |0        |6           | softmax |0.01| categorical_crossentropy|\n",
        "| Cambio 11    | SGD con Momentum|20      |64          |relu         |**`0.2`**        |6           | softmax |0.01| categorical_crossentropy|\n",
        "| Cambio 12    | SGD con Momentum|20      |64          |relu         |**`0.4`**        |6           | softmax |0.01| categorical_crossentropy|"
      ],
      "metadata": {
        "id": "SIRgtZKEm9ZV"
      }
    },
    {
      "cell_type": "markdown",
      "source": [
        "##Metricas a utilizar"
      ],
      "metadata": {
        "id": "g98WLi-0nHRv"
      }
    },
    {
      "cell_type": "markdown",
      "source": [
        "En este proyecto se han considerado diversas métricas para evaluar el desempeño del modelo de clasificación, con el objetivo de obtener una visión completa de su rendimiento. Las métricas utilizadas son accuracy, precision y recall, las cuales permiten analizar desde diferentes perspectivas la calidad de las predicciones realizadas.\n",
        "\n",
        "La accuracy representa la proporción de predicciones correctas respecto al total de muestras evaluadas. Es una métrica global que resulta útil cuando las clases están balanceadas, como es el caso del dataset MNIST. La precision, por su parte, mide la proporción de verdaderos positivos entre todas las predicciones positivas realizadas por el modelo, lo que permite evaluar cuán precisas son las predicciones para cada clase. En tanto, la recall (o sensibilidad) indica la proporción de verdaderos positivos detectados respecto al total real de esa clase, lo que refleja la capacidad del modelo para identificar correctamente los ejemplos pertenecientes a cada categoría.\n",
        "\n",
        "En cuanto a la métrica F1-score, esta representa una media armónica entre la precision y el recall, y se utiliza especialmente en escenarios con desequilibrios importantes entre clases. Sin embargo, dado que el conjunto de datos utilizado presenta una distribución equitativa de clases y se dispone de un volumen considerable de datos para entrenar y validar, se ha decidido prescindir de esta métrica en esta etapa. La evaluación mediante accuracy, precision y recall resulta suficiente y más interpretativa para los objetivos planteados, evitando redundancia en el análisis de resultados.\n",
        "\n",
        "\n",
        "\n",
        "\n",
        "\n",
        "\n",
        "\n",
        "\n"
      ],
      "metadata": {
        "id": "LG5Hhyd8nGPU"
      }
    },
    {
      "cell_type": "markdown",
      "source": [
        "#Entrenamiento y Ajuste de Hiperparámetros"
      ],
      "metadata": {
        "id": "3xkzboGjicNQ"
      }
    },
    {
      "cell_type": "markdown",
      "source": [
        "Para todos los modelos construidos en el presente proyecto, se seguirá un procedimiento común que incluye tres etapas fundamentales: la definición de la arquitectura, la compilación del modelo y su posterior entrenamiento. Durante el proceso de entrenamiento, se utilizará de forma constante el parámetro `validation_data=(X_test, y_test)` con el propósito de monitorear el comportamiento del modelo frente a datos no vistos y así detectar posibles casos de overfitting o underfitting.\n",
        "\n",
        "El overfitting se produce cuando el modelo aprende excesivamente los patrones del conjunto de entrenamiento, incluyendo ruido o detalles irrelevantes, lo que conlleva a un excelente rendimiento en los datos de entrenamiento pero a una pobre generalización en los datos de validación o prueba. Por el contrario, el underfitting ocurre cuando el modelo no logra capturar los patrones subyacentes del problema, obteniendo un bajo rendimiento tanto en los datos de entrenamiento como en los de prueba. Ambas situaciones son indeseables: el overfitting impide que el modelo sea útil en situaciones reales con nuevos datos, mientras que el underfitting indica una capacidad insuficiente del modelo para aprender el problema."
      ],
      "metadata": {
        "id": "_F726sSEnLSp"
      }
    },
    {
      "cell_type": "markdown",
      "source": [
        "Se determinó que la variable `M` representa la cantidad de ejemplos en el conjunto de entrenamiento, equivalente a 60.000 muestras en MNIST. La variable `N` indica el número de características por ejemplo, correspondientes a 784 pixeles (28x28) que han sido previamente aplanados. Por otro lado, `C` representa la cantidad de clases de salida, en este caso 10, correspondientes a los dígitos del 0 al 9."
      ],
      "metadata": {
        "id": "Hvh8R9kqnM4Q"
      }
    },
    {
      "cell_type": "code",
      "source": [
        "# Cantidad de ejemplos, neuronas de entradas y neuronas de salida\n",
        "M = X_train.shape[0]\n",
        "N = X_train.shape[1]\n",
        "C = y_train.shape[1]\n",
        "\n",
        "print(M,N,C)"
      ],
      "metadata": {
        "id": "y9nkL55inOfX"
      },
      "execution_count": null,
      "outputs": []
    },
    {
      "cell_type": "markdown",
      "source": [
        "Se definieron cinco capas ocultas con la siguiente configuración de unidades:"
      ],
      "metadata": {
        "id": "i9Dr0lIKnQAe"
      }
    },
    {
      "cell_type": "code",
      "source": [
        "# Definición de tamaño de capas escondidas\n",
        "h1 = 256\n",
        "h2 = 128\n",
        "h3 = 64\n",
        "h4 = 32\n",
        "h5 = 16"
      ],
      "metadata": {
        "id": "WXkXkz16nSGE"
      },
      "execution_count": null,
      "outputs": []
    },
    {
      "cell_type": "markdown",
      "source": [
        "Se optó por una estructura de tipo \"embudo\" o decreciente, una práctica común en redes densas para ir reduciendo progresivamente la dimensionalidad de las representaciones intermedias. Esta forma de diseño ayuda al modelo a abstraer características relevantes de manera jerárquica, al mismo tiempo que reduce la complejidad computacional y el riesgo de sobreajuste."
      ],
      "metadata": {
        "id": "VYi5VMbmnT65"
      }
    },
    {
      "cell_type": "markdown",
      "source": [
        "Antes del entrenamiento, se fijaron semillas aleatorias tanto para NumPy como para TensorFlow:"
      ],
      "metadata": {
        "id": "yxvqjSBwnUW3"
      }
    },
    {
      "cell_type": "code",
      "source": [
        "# semillas\n",
        "np.random.seed(42)\n",
        "tf.random.set_seed(42)"
      ],
      "metadata": {
        "id": "lv1-5ULjnV4S"
      },
      "execution_count": null,
      "outputs": []
    },
    {
      "cell_type": "markdown",
      "source": [
        "Establecer semillas garantiza la reproducibilidad de los resultados. Dado que el entrenamiento de modelos de Deep Learning involucra operaciones estocásticas (como inicialización de pesos y selección de batches), es crucial asegurar que los mismos parámetros conduzcan a los mismos resultados si se vuelve a ejecutar el experimento. Esto es especialmente importante en comparativos."
      ],
      "metadata": {
        "id": "jwoPwBJHnZN0"
      }
    },
    {
      "cell_type": "markdown",
      "source": [
        "## Constucción modelo base"
      ],
      "metadata": {
        "id": "qTexgGN3owsj"
      }
    },
    {
      "cell_type": "markdown",
      "source": [
        "El modelo base establece la configuración inicial del modelo de red neuronal. Se define una arquitectura de red neuronal multicapa (MLP) con cuatro capas ocultas, utilizando la función de activación `ReLU` en cada una de ellas. La capa de salida utiliza la función `softmax` para obtener probabilidades para cada clase de dígitos (0-9)."
      ],
      "metadata": {
        "id": "AlGrAwH1oxSp"
      }
    },
    {
      "cell_type": "markdown",
      "source": [
        "| Experimento | Optimizer       | Épocas | Batch Size |F. activación| Dropout | N° de capas   | F. salida|Learning rate| F. de peridida|\n",
        "|-------------|-----------------|--------|------------|-------------|---------|--------------|----------|-------------|---------------|\n",
        "| Baseline    | Adam            |5      |32          |relu         |0        |6           | softmax | 0 |categorical_crossentropy|"
      ],
      "metadata": {
        "id": "S2g_W4tpo0mA"
      }
    },
    {
      "cell_type": "code",
      "source": [
        "# Red feed-forward\n",
        "red_base = keras.Sequential(name = \"Baseline\")\n",
        "red_base.add(keras.layers.Input(shape=(N,), name=\"capa_entrada\"))\n",
        "red_base.add(keras.layers.Dense(h1, activation=\"relu\", name=\"capa_oculta_1\"))\n",
        "red_base.add(keras.layers.Dense(h2, activation=\"relu\", name=\"capa_oculta_2\"))\n",
        "red_base.add(keras.layers.Dense(h3, activation=\"relu\", name=\"capa_oculta_3\"))\n",
        "red_base.add(keras.layers.Dense(h4, activation=\"relu\", name=\"capa_oculta_4\"))\n",
        "red_base.add(keras.layers.Dense(C, activation='softmax', name='capa_de_salida'))\n",
        "\n",
        "red_base.summary()"
      ],
      "metadata": {
        "id": "TP65P377o2tD"
      },
      "execution_count": null,
      "outputs": []
    },
    {
      "cell_type": "markdown",
      "source": [
        "Para el entrenamiento, se utiliza el optimizador `Adam`, que es un algoritmo\n",
        "adaptativo que ajusta automáticamente la tasa de aprendizaje para cada parámetro, lo que facilita el proceso de entrenamiento. La función de pérdida utilizada es `CategoricalCrossentropy`, adecuada para problemas de clasificación multiclase con etiquetas one-hot encoded."
      ],
      "metadata": {
        "id": "6jPPBvMIo7Tc"
      }
    },
    {
      "cell_type": "code",
      "source": [
        "red_base.compile(\n",
        "    loss = keras.losses.CategoricalCrossentropy(), # Función de perdida CategoricalCrossentropy\n",
        "    optimizer = keras.optimizers.Adam(), # Optimizador Adam\n",
        "    metrics = [\"accuracy\", tf.keras.metrics.Precision(name='precision'), tf.keras.metrics.Recall(name='recall')]\n",
        ")"
      ],
      "metadata": {
        "id": "zZd_f51bo8zN"
      },
      "execution_count": null,
      "outputs": []
    },
    {
      "cell_type": "markdown",
      "source": [
        "El modelo se entrena durante `5 épocas`, utilizando un tamaño de `batch de 32`. Durante el entrenamiento, se monitoriza el rendimiento del modelo en un conjunto de datos de `validación (X_test, y_test)` para evaluar su capacidad de generalización y evitar el sobreajuste esto se aplica para todas las redes."
      ],
      "metadata": {
        "id": "krIKfqMzo_1E"
      }
    },
    {
      "cell_type": "code",
      "source": [
        "# Entranamiento de la red\n",
        "historial_adam = red_base.fit(\n",
        "    X_train, y_train,\n",
        "    epochs=5, # 5 Épocas\n",
        "    batch_size=32, # 32 de batch_size\n",
        "    validation_data=(X_test,y_test),\n",
        "    verbose = 1\n",
        ")"
      ],
      "metadata": {
        "id": "g77JWUaJo-jt"
      },
      "execution_count": null,
      "outputs": []
    },
    {
      "cell_type": "markdown",
      "source": [
        "## Cambio 1"
      ],
      "metadata": {
        "id": "gTnqi6ygpEVN"
      }
    },
    {
      "cell_type": "markdown",
      "source": [
        "En el primer cambio, se mantuvo la misma arquitectura y todos los hiperparámetros del modelo Baseline, pero se reemplazó el optimizador Adam por SGD (Stochastic Gradient Descent) sin momentum. Esta modificación busca comparar el desempeño entre un optimizador adaptativo moderno como Adam y una versión clásica como SGD, que requiere un ajuste más fino de sus parámetros pero puede ofrecer un aprendizaje más estable en ciertos casos.\n",
        "\n",
        "La función de pérdida y la activación de cada capa permanecieron sin cambios. El modelo se entrenó bajo las mismas condiciones: 5 épocas, batch size de 32, y conjunto de validación para monitorear la generalización. Esta comparación inicial establece una base para evaluar el efecto de incorporar mejoras al optimizador clásico en los siguientes experimentos."
      ],
      "metadata": {
        "id": "qwjF0JMIpM6V"
      }
    },
    {
      "cell_type": "markdown",
      "source": [
        "| Experimento | Optimizer       | Épocas | Batch Size |F. activación| Dropout | N° de capas   | F. salida|Learning rate| F. de peridida|\n",
        "|-------------|-----------------|--------|------------|-------------|---------|--------------|----------|-------------|---------------|\n",
        "| Cambio 1    | **`SGD`**       |5      |32          |relu         |0        |6           | softmax | 0 |categorical_crossentropy|"
      ],
      "metadata": {
        "id": "BeR48CoHpPvu"
      }
    },
    {
      "cell_type": "code",
      "source": [
        "# Red feed-forward\n",
        "red_cambio_1 = keras.Sequential(name = \"Cambio_1\")\n",
        "red_cambio_1.add(keras.layers.Input(shape=(N,), name=\"capa_entrada\"))\n",
        "red_cambio_1.add(keras.layers.Dense(h1, activation=\"relu\", name=\"capa_oculta_1\"))\n",
        "red_cambio_1.add(keras.layers.Dense(h2, activation=\"relu\", name=\"capa_oculta_2\"))\n",
        "red_cambio_1.add(keras.layers.Dense(h3, activation=\"relu\", name=\"capa_oculta_3\"))\n",
        "red_cambio_1.add(keras.layers.Dense(h4, activation=\"relu\", name=\"capa_oculta_4\"))\n",
        "red_cambio_1.add(keras.layers.Dense(C, activation='softmax', name='capa_de_salida'))\n",
        "\n",
        "red_cambio_1.summary()"
      ],
      "metadata": {
        "id": "uWElUh73pRiz"
      },
      "execution_count": null,
      "outputs": []
    },
    {
      "cell_type": "code",
      "source": [
        "red_cambio_1.compile(\n",
        "    loss = keras.losses.CategoricalCrossentropy(),\n",
        "    optimizer = keras.optimizers.SGD(), # Cambio de optimizador\n",
        "    metrics = [\"accuracy\", tf.keras.metrics.Precision(name='precision'), tf.keras.metrics.Recall(name='recall')]\n",
        ")"
      ],
      "metadata": {
        "id": "MvIdj2fRpWQi"
      },
      "execution_count": null,
      "outputs": []
    },
    {
      "cell_type": "code",
      "source": [
        "historial_sgd = red_cambio_1.fit(\n",
        "    X_train, y_train,\n",
        "    epochs=5,\n",
        "    batch_size=32,\n",
        "    validation_data=(X_test,y_test),\n",
        "    verbose = 1\n",
        ")"
      ],
      "metadata": {
        "id": "FpLxiUQYpXdh"
      },
      "execution_count": null,
      "outputs": []
    },
    {
      "cell_type": "markdown",
      "source": [
        "## Función para Comparación de Métricas"
      ],
      "metadata": {
        "id": "yF3MP688paF1"
      }
    },
    {
      "cell_type": "code",
      "source": [
        "def comparar_metricas_modelos(historiales, nombres_modelos, modelo1, modelo2):\n",
        "    \"\"\"\n",
        "    Compara las métricas de dos modelos específicos en una tabla.\n",
        "\n",
        "    Args:\n",
        "        historiales: Una lista de historiales de entrenamiento para cada modelo.\n",
        "        nombres_modelos: Una lista de nombres de modelos (para las etiquetas de las filas).\n",
        "        modelo1: Nombre del primer modelo a comparar.\n",
        "        modelo2: Nombre del segundo modelo a comparar.\n",
        "\n",
        "    Returns:\n",
        "        Un DataFrame de Pandas que contiene las métricas de los dos modelos especificados.\n",
        "    \"\"\"\n",
        "\n",
        "    # Obtener los índices de los modelos en las listas\n",
        "    indice_modelo1 = nombres_modelos.index(modelo1)\n",
        "    indice_modelo2 = nombres_modelos.index(modelo2)\n",
        "\n",
        "    # Extraer las métricas de los modelos seleccionados\n",
        "    metricas = []\n",
        "    for i in [indice_modelo1, indice_modelo2]:\n",
        "        historial = historiales[i]\n",
        "        nombre_modelo = nombres_modelos[i]\n",
        "        perdida = historial.history['loss'][-1]\n",
        "        accuracy = historial.history['accuracy'][-1]\n",
        "        val_perdida = historial.history['val_loss'][-1]\n",
        "        val_accuracy = historial.history['val_accuracy'][-1]\n",
        "\n",
        "        # Check if 'recall' is in history, otherwise use None\n",
        "        recall = historial.history.get('recall', [None])[-1]\n",
        "        val_recall = historial.history.get('val_recall', [None])[-1]\n",
        "\n",
        "        # Check if 'precision' is in history, otherwise use None\n",
        "        precision = historial.history.get('precision', [None])[-1]\n",
        "        val_precision = historial.history.get('val_precision', [None])[-1]\n",
        "\n",
        "        metricas.append([nombre_modelo, perdida, val_perdida, accuracy, val_accuracy, recall, val_recall, precision, val_precision])\n",
        "\n",
        "    # Crear el DataFrame de Pandas\n",
        "    # Se agregaron las columnas faltantes: 'Recall', 'Val_Recall', 'Precision', 'Val_Precision'\n",
        "    df_metricas = pd.DataFrame(metricas, columns=['Modelo', 'Pérdida', 'Pérdida de Validación', 'Accuracy', 'Accuracy de Validación', 'Recall', 'Val_Recall', 'Precision', 'Val_Precision'])\n",
        "    return df_metricas"
      ],
      "metadata": {
        "id": "DRrOYhoGpZU4"
      },
      "execution_count": null,
      "outputs": []
    },
    {
      "cell_type": "markdown",
      "source": [
        "Esta lista ejecutarla al final, para obtener todos los resultados"
      ],
      "metadata": {
        "id": "iMypy0iSpdPv"
      }
    },
    {
      "cell_type": "code",
      "source": [
        "# Lista de historiales de entrenamiento para cada modelo\n",
        "historiales = [historial_adam, historial_sgd, historial_cambio2, historial_cambio3, historial_cambio4,\n",
        "             historial_cambio5, historial_cambio6, historial_cambio7, historial_cambio8, historial_cambio9,\n",
        "             historial_cambio10, historial_cambio11, historial_cambio12]"
      ],
      "metadata": {
        "id": "LmdovSsRpdhE"
      },
      "execution_count": null,
      "outputs": []
    },
    {
      "cell_type": "code",
      "source": [
        "nombres_modelos = ['Baseline', 'Cambio_1', 'Cambio_2', 'Cambio_3', 'Cambio_4',\n",
        "           'Cambio_5', 'Cambio_6', 'Cambio_7', 'Cambio_8', 'Cambio_9',\n",
        "           'Cambio_10', 'Cambio_11', 'Cambio_12']"
      ],
      "metadata": {
        "id": "fyv0XEMlpfjF"
      },
      "execution_count": null,
      "outputs": []
    },
    {
      "cell_type": "markdown",
      "source": [
        "## Comparación"
      ],
      "metadata": {
        "id": "0LzsFIquphIk"
      }
    },
    {
      "cell_type": "code",
      "source": [
        "# Comparar las métricas de 'Baseline' y 'Cambio_1'\n",
        "df_comparacion = comparar_metricas_modelos(historiales, nombres_modelos, 'Baseline', 'Cambio_1')\n",
        "\n",
        "# Mostrar el DataFrame\n",
        "df_comparacion"
      ],
      "metadata": {
        "id": "NdthHbtrpikK"
      },
      "execution_count": null,
      "outputs": []
    },
    {
      "cell_type": "markdown",
      "source": [
        "### Visualización"
      ],
      "metadata": {
        "id": "dcU5YLyMpjKp"
      }
    },
    {
      "cell_type": "code",
      "source": [
        "def comparar_modelos(historial_base, historial_modificado, nombre_base='Modelo Base', nombre_modificado='Modelo Modificado'):\n",
        "  \"\"\"\n",
        "  Genera gráficos de comparación de accuracy y pérdida entre dos modelos.\n",
        "\n",
        "  Args:\n",
        "    historial_base: Historial de entrenamiento del modelo base (obtenido con model.fit).\n",
        "    historial_modificado: Historial de entrenamiento del modelo modificado.\n",
        "    nombre_base: Nombre del modelo base para la leyenda del gráfico.\n",
        "    nombre_modificado: Nombre del modelo modificado para la leyenda del gráfico.\n",
        "  \"\"\"\n",
        "\n",
        "  fig, axs = plt.subplots(1, 2, figsize=(16, 6))\n",
        "\n",
        "  # Gráfico de Pérdida\n",
        "  axs[0].plot(historial_base.history['loss'], label=f'Pérdida {nombre_base} (Entrenamiento)')\n",
        "  axs[0].plot(historial_base.history['val_loss'], label=f'Pérdida {nombre_base} (Validación)')\n",
        "  axs[0].plot(historial_modificado.history['loss'], label=f'Pérdida {nombre_modificado} (Entrenamiento)')\n",
        "  axs[0].plot(historial_modificado.history['val_loss'], label=f'Pérdida {nombre_modificado} (Validación)')\n",
        "  axs[0].set_title('Comparación de Pérdida')\n",
        "  axs[0].set_ylabel('Pérdida')\n",
        "  axs[0].set_xlabel('Época')\n",
        "  axs[0].legend(loc='upper right')\n",
        "\n",
        "  # Gráfico de Precisión (Accuracy)\n",
        "  axs[1].plot(historial_base.history['accuracy'], label=f'Precisión {nombre_base} (Entrenamiento)')\n",
        "  axs[1].plot(historial_base.history['val_accuracy'], label=f'Precisión {nombre_base} (Validación)')\n",
        "  axs[1].plot(historial_modificado.history['accuracy'], label=f'Precisión {nombre_modificado} (Entrenamiento)')\n",
        "  axs[1].plot(historial_modificado.history['val_accuracy'], label=f'Precisión {nombre_modificado} (Validación)')\n",
        "  axs[1].set_title('Comparación de Precisión')\n",
        "  axs[1].set_ylabel('Precisión')\n",
        "  axs[1].set_xlabel('Época')\n",
        "  axs[1].legend(loc='lower right')\n",
        "\n",
        "  plt.tight_layout()\n",
        "  plt.show()"
      ],
      "metadata": {
        "id": "-mdH73WApliF"
      },
      "execution_count": null,
      "outputs": []
    },
    {
      "cell_type": "code",
      "source": [
        "# Comparar el modelo base (Adam) con el modelo modificado (SGD)\n",
        "comparar_modelos(historial_adam, historial_sgd, 'Adam', 'SGD')"
      ],
      "metadata": {
        "id": "q7D38lDzpq2h"
      },
      "execution_count": null,
      "outputs": []
    },
    {
      "cell_type": "markdown",
      "source": [
        "## Cambio 2"
      ],
      "metadata": {
        "id": "beK4a5X_psjc"
      }
    },
    {
      "cell_type": "markdown",
      "source": [
        "En el segundo experimento, se mantiene el uso del optimizador SGD, pero se le incorpora momentum con valor 0.9. Esta técnica introduce un componente de memoria que acumula gradientes pasados para suavizar las oscilaciones y acelerar la convergencia en direcciones consistentes. La inclusión de momentum busca mejorar el rendimiento de SGD, especialmente en superficies de error complejas.\n",
        "\n",
        "La arquitectura del modelo, funciones de activación y de pérdida se mantienen iguales a los experimentos anteriores. El entrenamiento se realiza nuevamente durante 5 épocas con batch size de 32. Al comparar los resultados obtenidos frente a los experimentos Baseline y Cambio 1, se puede analizar si la inclusión de momentum logra una convergencia más rápida y estable."
      ],
      "metadata": {
        "id": "q7bRoSlGpuZC"
      }
    },
    {
      "cell_type": "markdown",
      "source": [
        "| Experimento | Optimizer       | Épocas | Batch Size |F. activación| Dropout | N° de capas   | F. salida|Learning rate| F. de peridida|\n",
        "|-------------|-----------------|--------|------------|-------------|---------|--------------|----------|-------------|---------------|\n",
        "| Cambio 2    |**`SGD con Momentum`**|5      |32          |relu         |0        |6           | softmax | 0 |categorical_crossentropy|"
      ],
      "metadata": {
        "id": "N6ALsg-OpwBO"
      }
    },
    {
      "cell_type": "code",
      "source": [
        "# Red feed-forward\n",
        "red_cambio_2 = keras.Sequential(name = \"Cambio_2\")\n",
        "red_cambio_2.add(keras.layers.Input(shape=(N,), name=\"capa_entrada\"))\n",
        "red_cambio_2.add(keras.layers.Dense(h1, activation=\"relu\", name=\"capa_oculta_1\"))\n",
        "red_cambio_2.add(keras.layers.Dense(h2, activation=\"relu\", name=\"capa_oculta_2\"))\n",
        "red_cambio_2.add(keras.layers.Dense(h3, activation=\"relu\", name=\"capa_oculta_3\"))\n",
        "red_cambio_2.add(keras.layers.Dense(h4, activation=\"relu\", name=\"capa_oculta_4\"))\n",
        "red_cambio_2.add(keras.layers.Dense(C, activation='softmax', name='capa_de_salida'))\n",
        "\n",
        "red_cambio_2.summary()"
      ],
      "metadata": {
        "id": "EovQJ8_VptFc"
      },
      "execution_count": null,
      "outputs": []
    },
    {
      "cell_type": "code",
      "source": [
        "red_cambio_2.compile(\n",
        "    loss = keras.losses.CategoricalCrossentropy(),\n",
        "    optimizer = keras.optimizers.SGD(momentum=0.9),\n",
        "    metrics = [\"accuracy\", tf.keras.metrics.Precision(name='precision'), tf.keras.metrics.Recall(name='recall')]\n",
        ")"
      ],
      "metadata": {
        "id": "E2JqQLP-pziP"
      },
      "execution_count": null,
      "outputs": []
    },
    {
      "cell_type": "code",
      "source": [
        "red_cambio_2.compile(\n",
        "    loss = keras.losses.CategoricalCrossentropy(),\n",
        "    optimizer = keras.optimizers.SGD(momentum=0.9),\n",
        "    metrics = [\"accuracy\", tf.keras.metrics.Precision(name='precision'), tf.keras.metrics.Recall(name='recall')]\n",
        ")"
      ],
      "metadata": {
        "id": "hHLX1OeZpzzo"
      },
      "execution_count": null,
      "outputs": []
    },
    {
      "cell_type": "markdown",
      "source": [
        "## Comparación"
      ],
      "metadata": {
        "id": "ss2-ecVap21X"
      }
    },
    {
      "cell_type": "markdown",
      "source": [
        "### Métricas"
      ],
      "metadata": {
        "id": "ZSqFYLCkp4yD"
      }
    },
    {
      "cell_type": "code",
      "source": [
        "# Comparar las métricas\n",
        "df_comparacion = comparar_metricas_modelos(historiales, nombres_modelos, 'Baseline', 'Cambio_2')\n",
        "\n",
        "# Mostrar el DataFrame\n",
        "df_comparacion"
      ],
      "metadata": {
        "id": "I3pl3BKTp6kb"
      },
      "execution_count": null,
      "outputs": []
    },
    {
      "cell_type": "markdown",
      "source": [
        "### Visualización"
      ],
      "metadata": {
        "id": "mr5chXK3p67x"
      }
    },
    {
      "cell_type": "code",
      "source": [
        "# Comparación con el modelo anterior\n",
        "comparar_modelos(historial_adam , historial_cambio2, 'Adam', 'SGD con Momentum')"
      ],
      "metadata": {
        "id": "eIzg6ynkp9g8"
      },
      "execution_count": null,
      "outputs": []
    },
    {
      "cell_type": "markdown",
      "source": [
        "## Cambio 3"
      ],
      "metadata": {
        "id": "zxE0GKLZqNhb"
      }
    },
    {
      "cell_type": "markdown",
      "source": [
        "En este tercer cambio, se mantiene la misma arquitectura y configuración que en el Cambio 2 (SGD con momentum), pero se reemplaza la función de pérdida CategoricalCrossentropy por CategoricalFocalCrossentropy. Esta función introduce un término que da mayor peso a los ejemplos mal clasificados, lo cual puede ser útil para mejorar la precisión en muestras difíciles y fomentar una mayor capacidad de generalización.\n",
        "\n",
        "La modificación responde a un enfoque experimental para comparar el comportamiento del modelo frente a distintas funciones de pérdida, especialmente en escenarios donde podría haber cierta variabilidad entre clases. Se mantienen el batch size de 32, 5 épocas de entrenamiento y validación con el conjunto de prueba. Los resultados de este experimento permiten observar si focalizar el aprendizaje en errores mejora efectivamente el desempeño general del modelo."
      ],
      "metadata": {
        "id": "jz4jOi89qN96"
      }
    },
    {
      "cell_type": "markdown",
      "source": [
        "| Experimento | Optimizer       | Épocas | Batch Size |F. activación| Dropout | N° de capas   | F. salida|Learning rate| F. de peridida|\n",
        "|-------------|-----------------|--------|------------|-------------|---------|--------------|----------|-------------|---------------|\n",
        "| Cambio 3    | SGD con Momentum|5      |32          |relu         |0        |6           | softmax | 0 |**`CategoricalFocalCrossentropy`**|"
      ],
      "metadata": {
        "id": "4598IoGJqQf7"
      }
    },
    {
      "cell_type": "code",
      "source": [
        "# Red feed-forward\n",
        "red_cambio_3 = keras.Sequential(name = \"Cambio_3\")\n",
        "red_cambio_3.add(keras.layers.Input(shape=(N,), name=\"capa_entrada\"))\n",
        "red_cambio_3.add(keras.layers.Dense(h1, activation=\"relu\", name=\"capa_oculta_1\"))\n",
        "red_cambio_3.add(keras.layers.Dense(h2, activation=\"relu\", name=\"capa_oculta_2\"))\n",
        "red_cambio_3.add(keras.layers.Dense(h3, activation=\"relu\", name=\"capa_oculta_3\"))\n",
        "red_cambio_3.add(keras.layers.Dense(h4, activation=\"relu\", name=\"capa_oculta_4\"))\n",
        "red_cambio_3.add(keras.layers.Dense(C, activation='softmax', name='capa_de_salida'))\n",
        "\n",
        "red_cambio_3.summary()"
      ],
      "metadata": {
        "id": "0UI7wiC9qRqY"
      },
      "execution_count": null,
      "outputs": []
    },
    {
      "cell_type": "code",
      "source": [
        "red_cambio_3.compile(\n",
        "    loss = keras.losses.CategoricalFocalCrossentropy(), #Cambio de función de perdida\n",
        "    optimizer = keras.optimizers.SGD(momentum=0.9),\n",
        "    metrics = [\"accuracy\", tf.keras.metrics.Precision(name='precision'), tf.keras.metrics.Recall(name='recall')]\n",
        ")"
      ],
      "metadata": {
        "id": "_QEcS30EqTcP"
      },
      "execution_count": null,
      "outputs": []
    },
    {
      "cell_type": "code",
      "source": [
        "# Entrenar el modelo\n",
        "historial_cambio3 = red_cambio_3.fit(\n",
        "    X_train, y_train,\n",
        "    epochs=5,\n",
        "    batch_size=32,\n",
        "    validation_data=(X_test, y_test),\n",
        "    verbose=1\n",
        ")"
      ],
      "metadata": {
        "id": "U4dy11mAqTvk"
      },
      "execution_count": null,
      "outputs": []
    },
    {
      "cell_type": "markdown",
      "source": [
        "## Comparación"
      ],
      "metadata": {
        "id": "qlWRjlgOqXAR"
      }
    },
    {
      "cell_type": "markdown",
      "source": [
        "### Métricas"
      ],
      "metadata": {
        "id": "9en-UwH4qYg8"
      }
    },
    {
      "cell_type": "code",
      "source": [
        "# Comparar las métricas\n",
        "df_comparacion = comparar_metricas_modelos(historiales, nombres_modelos, 'Cambio_2', 'Cambio_3')\n",
        "\n",
        "# Mostrar el DataFrame\n",
        "df_comparacion"
      ],
      "metadata": {
        "id": "hd5WNIliqWdv"
      },
      "execution_count": null,
      "outputs": []
    },
    {
      "cell_type": "markdown",
      "source": [
        "### Visualización"
      ],
      "metadata": {
        "id": "Q5kPnIyrqbNr"
      }
    },
    {
      "cell_type": "code",
      "source": [
        "comparar_modelos(historial_cambio2, historial_cambio3, 'SGD con Momentum', 'Cambio de función de perdida')"
      ],
      "metadata": {
        "id": "q49IGnYMqcnl"
      },
      "execution_count": null,
      "outputs": []
    },
    {
      "cell_type": "markdown",
      "source": [
        "## Cambio 4"
      ],
      "metadata": {
        "id": "6erFjIUZqeTt"
      }
    },
    {
      "cell_type": "markdown",
      "source": [
        "En este experimento se mantiene la arquitectura base y el conjunto de hiperparámetros del Cambio 3, con cuatro capas ocultas con activación ReLU, optimizador SGD con momentum (0.9) y función de pérdida CategoricalCrossentropy. La principal modificación consiste en reemplazar la función de activación de la capa de salida, cambiando softmax por sigmoid. Esta modificación se realiza con fines experimentales, dado que sigmoid no es la opción más apropiada para clasificación multiclase con codificación one-hot, ya que no garantiza una distribución probabilística entre clases como lo hace softmax. Sin embargo, su inclusión permite observar el efecto que tiene esta decisión en el comportamiento del modelo."
      ],
      "metadata": {
        "id": "dk5X5wQoqgO_"
      }
    },
    {
      "cell_type": "markdown",
      "source": [
        "| Experimento | Optimizer       | Épocas | Batch Size |F. activación| Dropout | N° de capas   | F. salida|Learning rate| F. de peridida|\n",
        "|-------------|-----------------|--------|------------|-------------|---------|--------------|----------|-------------|---------------|\n",
        "| Cambio 4    | SGD con Momentum|5      |32          |relu         |0        |6           | **`sigmoid`** | 0 |categorical_crossentropy|"
      ],
      "metadata": {
        "id": "xZSaT0gfqh-e"
      }
    },
    {
      "cell_type": "code",
      "source": [
        "# Red feed-forward\n",
        "red_cambio_4 = keras.Sequential(name = \"Cambio_4\")\n",
        "red_cambio_4.add(keras.layers.Input(shape=(N,), name=\"capa_entrada\"))\n",
        "red_cambio_4.add(keras.layers.Dense(h1, activation=\"relu\", name=\"capa_oculta_1\"))\n",
        "red_cambio_4.add(keras.layers.Dense(h2, activation=\"relu\", name=\"capa_oculta_2\"))\n",
        "red_cambio_4.add(keras.layers.Dense(h3, activation=\"relu\", name=\"capa_oculta_3\"))\n",
        "red_cambio_4.add(keras.layers.Dense(h4, activation=\"relu\", name=\"capa_oculta_4\"))\n",
        "red_cambio_4.add(keras.layers.Dense(C, activation='sigmoid', name='capa_de_salida')) # Cambio en la Función de Activación en la capa de salida\n",
        "\n",
        "red_cambio_4.summary()"
      ],
      "metadata": {
        "id": "CKnXgUwGqe6d"
      },
      "execution_count": null,
      "outputs": []
    },
    {
      "cell_type": "code",
      "source": [
        "red_cambio_4.compile(\n",
        "    loss = keras.losses.CategoricalCrossentropy(),\n",
        "    optimizer = keras.optimizers.SGD(momentum=0.9),\n",
        "    metrics = [\"accuracy\", tf.keras.metrics.Precision(name='precision'), tf.keras.metrics.Recall(name='recall')]\n",
        ")"
      ],
      "metadata": {
        "id": "xPcgsQzQqlj6"
      },
      "execution_count": null,
      "outputs": []
    },
    {
      "cell_type": "code",
      "source": [
        "historial_cambio4 = red_cambio_4.fit(\n",
        "    X_train, y_train,\n",
        "    epochs=5,\n",
        "    batch_size=32,\n",
        "    validation_data=(X_test,y_test),\n",
        "    verbose = 1\n",
        ")"
      ],
      "metadata": {
        "id": "He0o_LtLqodb"
      },
      "execution_count": null,
      "outputs": []
    },
    {
      "cell_type": "markdown",
      "source": [
        "## Comparación"
      ],
      "metadata": {
        "id": "_3ivVczXqqLN"
      }
    },
    {
      "cell_type": "markdown",
      "source": [
        "### Métricas"
      ],
      "metadata": {
        "id": "aBY1bTagqql7"
      }
    },
    {
      "cell_type": "code",
      "source": [
        "# Comparar las métricas\n",
        "df_comparacion = comparar_metricas_modelos(historiales, nombres_modelos, 'Cambio_2', 'Cambio_4')\n",
        "\n",
        "# Mostrar el DataFrame\n",
        "df_comparacion"
      ],
      "metadata": {
        "id": "IJAwd8LjqtoD"
      },
      "execution_count": null,
      "outputs": []
    },
    {
      "cell_type": "markdown",
      "source": [
        "### Visualización"
      ],
      "metadata": {
        "id": "TI_br5hjqwsS"
      }
    },
    {
      "cell_type": "code",
      "source": [
        "comparar_modelos(historial_cambio2, historial_cambio4, 'SGD con Momentum', 'Cambio en la Función de activación (capa de salida)')"
      ],
      "metadata": {
        "id": "AsXPdquSqxKh"
      },
      "execution_count": null,
      "outputs": []
    },
    {
      "cell_type": "markdown",
      "source": [
        "## Cambio 5"
      ],
      "metadata": {
        "id": "YEBHGHatq1Xj"
      }
    },
    {
      "cell_type": "markdown",
      "source": [
        "En este caso, se experimenta con un cambio en la función de activación de las capas ocultas. En lugar de utilizar ReLU, se utiliza sigmoid en todas las capas ocultas, manteniendo la función softmax en la salida, el optimizador SGD con momentum, y la función de pérdida CategoricalCrossentropy. El objetivo de esta prueba es comparar el desempeño entre ReLU y sigmoid, dado que esta última tiende a sufrir del problema de saturación de gradientes, lo cual podría dificultar el entrenamiento. A pesar de ello, se incluye para experimentar con diferentes funciones de activación."
      ],
      "metadata": {
        "id": "GInEKW7gq2Wm"
      }
    },
    {
      "cell_type": "markdown",
      "source": [
        "| Experimento | Optimizer       | Épocas | Batch Size |F. activación| Dropout | N° de capas   | F. salida|Learning rate| F. de peridida|\n",
        "|-------------|-----------------|--------|------------|-------------|---------|--------------|----------|-------------|---------------|\n",
        "| Cambio 5    | SGD con Momentum|5      |32          |**`sigmoid`**      |0        |6           | softmax |0| categorical_crossentropy|"
      ],
      "metadata": {
        "id": "YKKW8f_Bq8lO"
      }
    },
    {
      "cell_type": "code",
      "source": [
        "# Red feed-forward\n",
        "red_cambio_5 = keras.Sequential(name = \"Cambio_5\")\n",
        "red_cambio_5.add(keras.layers.Input(shape=(N,), name=\"capa_entrada\"))\n",
        "red_cambio_5.add(keras.layers.Dense(h1, activation=\"sigmoid\", name=\"capa_oculta_1\"))\n",
        "red_cambio_5.add(keras.layers.Dense(h2, activation=\"sigmoid\", name=\"capa_oculta_2\"))\n",
        "red_cambio_5.add(keras.layers.Dense(h3, activation=\"sigmoid\", name=\"capa_oculta_3\"))\n",
        "red_cambio_5.add(keras.layers.Dense(h4, activation=\"sigmoid\", name=\"capa_oculta_4\"))\n",
        "red_cambio_5.add(keras.layers.Dense(C, activation='softmax', name='capa_de_salida'))\n",
        "\n",
        "red_cambio_5.summary()"
      ],
      "metadata": {
        "id": "8jUZksyjq7Mw"
      },
      "execution_count": null,
      "outputs": []
    },
    {
      "cell_type": "code",
      "source": [
        "red_cambio_5.compile(\n",
        "    loss = keras.losses.CategoricalCrossentropy(),\n",
        "    optimizer = keras.optimizers.SGD(momentum=0.9),\n",
        "    metrics = [\"accuracy\", tf.keras.metrics.Precision(name='precision'), tf.keras.metrics.Recall(name='recall')]\n",
        ")"
      ],
      "metadata": {
        "id": "HLiNvBNIq_IA"
      },
      "execution_count": null,
      "outputs": []
    },
    {
      "cell_type": "code",
      "source": [
        "historial_cambio5 = red_cambio_5.fit(\n",
        "    X_train, y_train,\n",
        "    epochs=5,\n",
        "    batch_size=32,\n",
        "    validation_data=(X_test,y_test),\n",
        "    verbose = 1\n",
        ")"
      ],
      "metadata": {
        "id": "yHXm3AZHrA3i"
      },
      "execution_count": null,
      "outputs": []
    },
    {
      "cell_type": "markdown",
      "source": [
        "## Comparación"
      ],
      "metadata": {
        "id": "my86WJbkrDNV"
      }
    },
    {
      "cell_type": "markdown",
      "source": [
        "### Métricas"
      ],
      "metadata": {
        "id": "AkzfkFahrDe0"
      }
    },
    {
      "cell_type": "code",
      "source": [
        "# Comparar las métricas\n",
        "df_comparacion = comparar_metricas_modelos(historiales, nombres_modelos, 'Cambio_2', 'Cambio_5')\n",
        "\n",
        "# Mostrar el DataFrame\n",
        "df_comparacion"
      ],
      "metadata": {
        "id": "sV6qCxQ6rCtm"
      },
      "execution_count": null,
      "outputs": []
    },
    {
      "cell_type": "markdown",
      "source": [
        "### Visualización"
      ],
      "metadata": {
        "id": "yD3vfQ-yrPTS"
      }
    },
    {
      "cell_type": "code",
      "source": [
        "comparar_modelos(historial_cambio2, historial_cambio5, 'SGD con Momentum', 'Cambio en Función de activación (Capa oculta)')"
      ],
      "metadata": {
        "id": "aPEsqIUtrQra"
      },
      "execution_count": null,
      "outputs": []
    },
    {
      "cell_type": "markdown",
      "source": [
        "## Cambio 6"
      ],
      "metadata": {
        "id": "EUaYnos0rTJ2"
      }
    },
    {
      "cell_type": "markdown",
      "source": [
        "Este experimento mantiene la estructura base del modelo y el uso del optimizador SGD con momentum, pero se introduce una tasa de aprendizaje explícita de 0.01. El objetivo es observar cómo influye este parámetro en la velocidad de convergencia y en la estabilidad del entrenamiento. Si bien SGD puede funcionar adecuadamente con la tasa por defecto, especificar un learning rate permite mayor control y ajuste fino del proceso de optimización. La arquitectura de capas y las funciones de activación permanecen sin cambios respecto a los experimentos anteriores."
      ],
      "metadata": {
        "id": "OjID5tIUrVSJ"
      }
    },
    {
      "cell_type": "markdown",
      "source": [
        "| Experimento | Optimizer       | Épocas | Batch Size |F. activación| Dropout | N° de capas   | F. salida|Learning rate| F. de peridida|\n",
        "|-------------|-----------------|--------|------------|-------------|---------|--------------|----------|-------------|---------------|\n",
        "| Cambio 6    | SGD con Momentum|5      |32          |relu         |0        |6           | softmax | **`0.01`**| categorical_crossentropy|"
      ],
      "metadata": {
        "id": "bPhkrSKZrXUC"
      }
    },
    {
      "cell_type": "code",
      "source": [
        "# Red feed-forward\n",
        "red_cambio_6 = keras.Sequential(name = \"Cambio_6\")\n",
        "red_cambio_6.add(keras.layers.Input(shape=(N,), name=\"capa_entrada\"))\n",
        "red_cambio_6.add(keras.layers.Dense(h1, activation=\"relu\", name=\"capa_oculta_1\"))\n",
        "red_cambio_6.add(keras.layers.Dense(h2, activation=\"relu\", name=\"capa_oculta_2\"))\n",
        "red_cambio_6.add(keras.layers.Dense(h3, activation=\"relu\", name=\"capa_oculta_3\"))\n",
        "red_cambio_6.add(keras.layers.Dense(h4, activation=\"relu\", name=\"capa_oculta_4\"))\n",
        "red_cambio_6.add(keras.layers.Dense(C, activation='softmax', name='capa_de_salida'))\n",
        "\n",
        "red_cambio_6.summary()"
      ],
      "metadata": {
        "id": "TuMZ_gRsrYYe"
      },
      "execution_count": null,
      "outputs": []
    },
    {
      "cell_type": "code",
      "source": [
        "red_cambio_6.compile(\n",
        "    loss = keras.losses.CategoricalCrossentropy(),\n",
        "    optimizer = keras.optimizers.SGD(learning_rate = 0.01, momentum=0.9), # Se agrega learning rate con valor 0.01\n",
        "    metrics = [\"accuracy\", tf.keras.metrics.Precision(name='precision'), tf.keras.metrics.Recall(name='recall')]\n",
        ")"
      ],
      "metadata": {
        "id": "X56HQscQrZrP"
      },
      "execution_count": null,
      "outputs": []
    },
    {
      "cell_type": "code",
      "source": [
        "historial_cambio6 = red_cambio_6.fit(\n",
        "    X_train, y_train,\n",
        "    epochs=5,\n",
        "    batch_size=32,\n",
        "    validation_data=(X_test,y_test),\n",
        "    verbose = 1\n",
        ")"
      ],
      "metadata": {
        "id": "W5akibC8rcPb"
      },
      "execution_count": null,
      "outputs": []
    },
    {
      "cell_type": "markdown",
      "source": [
        "## Comparación"
      ],
      "metadata": {
        "id": "qV631u1srdrC"
      }
    },
    {
      "cell_type": "markdown",
      "source": [
        "### Métricas"
      ],
      "metadata": {
        "id": "4JiMizeQrep7"
      }
    },
    {
      "cell_type": "code",
      "source": [
        "# Comparar las métricas\n",
        "df_comparacion = comparar_metricas_modelos(historiales, nombres_modelos, 'Cambio_2', 'Cambio_6')\n",
        "\n",
        "# Mostrar el DataFrame\n",
        "df_comparacion"
      ],
      "metadata": {
        "id": "Ftu3gJ3_rhNo"
      },
      "execution_count": null,
      "outputs": []
    },
    {
      "cell_type": "markdown",
      "source": [
        "### Visualización"
      ],
      "metadata": {
        "id": "JmvcRU3hrjN3"
      }
    },
    {
      "cell_type": "code",
      "source": [
        "comparar_modelos(historial_cambio2, historial_cambio6, 'SGD con momentum', 'Cambio con learning rate')"
      ],
      "metadata": {
        "id": "yT_0PWEyrkow"
      },
      "execution_count": null,
      "outputs": []
    },
    {
      "cell_type": "markdown",
      "source": [
        "## Cambio 7"
      ],
      "metadata": {
        "id": "vwJ7w4qzrpbM"
      }
    },
    {
      "cell_type": "markdown",
      "source": [
        "En el Cambio 7 se incrementa la cantidad de épocas de entrenamiento de 5 a 10, manteniendo el resto de los parámetros fijos respecto al Cambio 6. Esta modificación busca evaluar si un mayor número de iteraciones mejora la capacidad del modelo para aprender patrones complejos, sin caer en sobreajuste. Observar la evolución de las curvas de entrenamiento y validación permitirá detectar signos de overfitting o una mejora sostenida del rendimiento."
      ],
      "metadata": {
        "id": "u_xN4G7tsFqW"
      }
    },
    {
      "cell_type": "markdown",
      "source": [
        "| Experimento | Optimizer       | Épocas | Batch Size |F. activación| Dropout | N° de capas   | F. salida|Learning rate| F. de peridida|\n",
        "|-------------|-----------------|--------|------------|-------------|---------|--------------|----------|-------------|---------------|\n",
        "| Cambio 7    | SGD con Momentum|**`10`**      |32          |relu         |0        |6           | softmax |0.01| categorical_crossentropy|"
      ],
      "metadata": {
        "id": "mtfM9Jt_sHNL"
      }
    },
    {
      "cell_type": "code",
      "source": [
        "# Red feed-forward\n",
        "red_cambio_7 = keras.Sequential(name = \"Cambio_7\")\n",
        "red_cambio_7.add(keras.layers.Input(shape=(N,), name=\"capa_entrada\"))\n",
        "red_cambio_7.add(keras.layers.Dense(h1, activation=\"relu\", name=\"capa_oculta_1\"))\n",
        "red_cambio_7.add(keras.layers.Dense(h2, activation=\"relu\", name=\"capa_oculta_2\"))\n",
        "red_cambio_7.add(keras.layers.Dense(h3, activation=\"relu\", name=\"capa_oculta_3\"))\n",
        "red_cambio_7.add(keras.layers.Dense(h4, activation=\"relu\", name=\"capa_oculta_4\"))\n",
        "red_cambio_7.add(keras.layers.Dense(C, activation='softmax', name='capa_de_salida'))\n",
        "\n",
        "red_cambio_7.summary()"
      ],
      "metadata": {
        "id": "2r0H6d19sJWh"
      },
      "execution_count": null,
      "outputs": []
    },
    {
      "cell_type": "code",
      "source": [
        "red_cambio_7.compile(\n",
        "    loss = keras.losses.CategoricalCrossentropy(),\n",
        "    optimizer = keras.optimizers.SGD(learning_rate = 0.01, momentum=0.9),\n",
        "    metrics = [\"accuracy\", tf.keras.metrics.Precision(name='precision'), tf.keras.metrics.Recall(name='recall')]\n",
        ")"
      ],
      "metadata": {
        "id": "-3MzujOWsKz8"
      },
      "execution_count": null,
      "outputs": []
    },
    {
      "cell_type": "code",
      "source": [
        "historial_cambio7 = red_cambio_7.fit(\n",
        "    X_train, y_train,\n",
        "    epochs=10,\n",
        "    batch_size=32,\n",
        "    validation_data=(X_test,y_test),\n",
        "    verbose = 1\n",
        ")"
      ],
      "metadata": {
        "id": "UorIAbObsL85"
      },
      "execution_count": null,
      "outputs": []
    },
    {
      "cell_type": "markdown",
      "source": [
        "## Comparación"
      ],
      "metadata": {
        "id": "bDbWepgfr1gP"
      }
    },
    {
      "cell_type": "markdown",
      "source": [
        "### Métricas"
      ],
      "metadata": {
        "id": "iafMZZPpr6Y4"
      }
    },
    {
      "cell_type": "code",
      "source": [
        "# Comparar las métricas\n",
        "df_comparacion = comparar_metricas_modelos(historiales, nombres_modelos, 'Cambio_6', 'Cambio_7')\n",
        "\n",
        "# Mostrar el DataFrame\n",
        "df_comparacion"
      ],
      "metadata": {
        "id": "cdZ0As84sNsT"
      },
      "execution_count": null,
      "outputs": []
    },
    {
      "cell_type": "markdown",
      "source": [
        "### Visualización"
      ],
      "metadata": {
        "id": "1G3nedZ_sDME"
      }
    },
    {
      "cell_type": "code",
      "source": [
        "comparar_modelos(historial_cambio6, historial_cambio7, 'Modelo fijo', 'Cambio de epocas')"
      ],
      "metadata": {
        "id": "veG77MUssOBp"
      },
      "execution_count": null,
      "outputs": []
    },
    {
      "cell_type": "markdown",
      "source": [
        "## Cambio 8"
      ],
      "metadata": {
        "id": "uz1Ti8FsrqdT"
      }
    },
    {
      "cell_type": "markdown",
      "source": [
        "En esta prueba se incrementa el tamaño de batch a 64, manteniendo 10 épocas de entrenamiento, arquitectura y learning rate constantes. El cambio en el batch size permite evaluar cómo afecta a la estabilidad del gradiente y al tiempo de entrenamiento por época. Típicamente, valores más altos de batch size reducen el ruido en la estimación del gradiente, pero pueden ralentizar la convergencia y generar menor capacidad de generalización."
      ],
      "metadata": {
        "id": "k7euAK7HsQA5"
      }
    },
    {
      "cell_type": "markdown",
      "source": [
        "| Experimento | Optimizer       | Épocas | Batch Size |F. activación| Dropout | N° de capas   | F. salida|Learning rate| F. de peridida|\n",
        "|-------------|-----------------|--------|------------|-------------|---------|--------------|----------|-------------|---------------|\n",
        "| Cambio 8    | SGD con Momentum|10      |**`64`**          |relu         |0        |6           | softmax |0.01| categorical_crossentropy|"
      ],
      "metadata": {
        "id": "EvXoG_WMsQYG"
      }
    },
    {
      "cell_type": "code",
      "source": [
        "# Red feed-forward\n",
        "red_cambio_8 = keras.Sequential(name = \"Cambio_8\")\n",
        "red_cambio_8.add(keras.layers.Input(shape=(N,), name=\"capa_entrada\"))\n",
        "red_cambio_8.add(keras.layers.Dense(h1, activation=\"relu\", name=\"capa_oculta_1\"))\n",
        "red_cambio_8.add(keras.layers.Dense(h2, activation=\"relu\", name=\"capa_oculta_2\"))\n",
        "red_cambio_8.add(keras.layers.Dense(h3, activation=\"relu\", name=\"capa_oculta_3\"))\n",
        "red_cambio_8.add(keras.layers.Dense(h4, activation=\"relu\", name=\"capa_oculta_4\"))\n",
        "red_cambio_8.add(keras.layers.Dense(C, activation='softmax', name='capa_de_salida'))\n",
        "\n",
        "red_cambio_8.summary()"
      ],
      "metadata": {
        "id": "wxfercwDsQtE"
      },
      "execution_count": null,
      "outputs": []
    },
    {
      "cell_type": "code",
      "source": [
        "red_cambio_8.compile(\n",
        "    loss = keras.losses.CategoricalCrossentropy(),\n",
        "    optimizer = keras.optimizers.SGD(learning_rate = 0.01, momentum=0.9),\n",
        "    metrics = [\"accuracy\", tf.keras.metrics.Precision(name='precision'), tf.keras.metrics.Recall(name='recall')]\n",
        ")"
      ],
      "metadata": {
        "id": "XrA3nOK0sQ6H"
      },
      "execution_count": null,
      "outputs": []
    },
    {
      "cell_type": "code",
      "source": [
        "historial_cambio8 = red_cambio_8.fit(\n",
        "    X_train, y_train,\n",
        "    epochs=10,\n",
        "    batch_size=64,\n",
        "    validation_data=(X_test,y_test),\n",
        "    verbose = 1\n",
        ")"
      ],
      "metadata": {
        "id": "4Z8OsLkFsRGt"
      },
      "execution_count": null,
      "outputs": []
    },
    {
      "cell_type": "markdown",
      "source": [
        "## Comparación"
      ],
      "metadata": {
        "id": "IXgSAbAOr2EN"
      }
    },
    {
      "cell_type": "markdown",
      "source": [
        "### Métricas"
      ],
      "metadata": {
        "id": "Gqnwgcn7r7Uh"
      }
    },
    {
      "cell_type": "code",
      "source": [
        "# Comparar las métricas\n",
        "df_comparacion = comparar_metricas_modelos(historiales, nombres_modelos, 'Cambio_7', 'Cambio_8')\n",
        "\n",
        "# Mostrar el DataFrame\n",
        "df_comparacion"
      ],
      "metadata": {
        "id": "xTi59HTqsRnY"
      },
      "execution_count": null,
      "outputs": []
    },
    {
      "cell_type": "markdown",
      "source": [
        "### Visualización"
      ],
      "metadata": {
        "id": "5GA8bl75sCvL"
      }
    },
    {
      "cell_type": "code",
      "source": [
        "comparar_modelos(historial_cambio7, historial_cambio8, 'Batchsize 32', 'Batchsize 64')"
      ],
      "metadata": {
        "id": "whgxZDHKsR6t"
      },
      "execution_count": null,
      "outputs": []
    },
    {
      "cell_type": "markdown",
      "source": [
        "## Cambio 9"
      ],
      "metadata": {
        "id": "HFeYgrF8rput"
      }
    },
    {
      "cell_type": "markdown",
      "source": [
        "En el Cambio 9 se modifica el número de capas ocultas, pasando de 4 a 6 capas ocultas, lo que implica una arquitectura total de 8 capas (incluyendo entrada y salida). Esta decisión busca analizar cómo una red más profunda afecta la representación jerárquica de las características y el rendimiento del modelo. Se mantienen constantes el tamaño del batch, número de épocas, learning rate, optimizador y funciones de activación."
      ],
      "metadata": {
        "id": "qbB03MPOsSQI"
      }
    },
    {
      "cell_type": "markdown",
      "source": [
        "| Experimento | Optimizer       | Épocas | Batch Size |F. activación| Dropout | N° de capas   | F. salida|Learning rate| F. de peridida|\n",
        "|-------------|-----------------|--------|------------|-------------|---------|--------------|----------|-------------|---------------|\n",
        "| Cambio 9    | SGD con Momentum|10      |64          |relu         |0        |`8`           | softmax |0.01| categorical_crossentropy|"
      ],
      "metadata": {
        "id": "ujqSgBi4sSkb"
      }
    },
    {
      "cell_type": "code",
      "source": [
        "# Red feed-forward\n",
        "red_cambio_9 = keras.Sequential(name = \"Cambio_9\")\n",
        "red_cambio_9.add(keras.layers.Input(shape=(N,), name=\"capa_entrada\"))\n",
        "red_cambio_9.add(keras.layers.Dense(h1, activation=\"relu\", name=\"capa_oculta_1\"))\n",
        "red_cambio_9.add(keras.layers.Dense(h2, activation=\"relu\", name=\"capa_oculta_2\"))\n",
        "red_cambio_9.add(keras.layers.Dense(h2, activation=\"relu\", name=\"capa_oculta_3\"))\n",
        "red_cambio_9.add(keras.layers.Dense(h3, activation=\"relu\", name=\"capa_oculta_4\"))\n",
        "red_cambio_9.add(keras.layers.Dense(h4, activation=\"relu\", name=\"capa_oculta_5\"))\n",
        "red_cambio_9.add(keras.layers.Dense(h5, activation=\"relu\", name=\"capa_oculta_6\"))\n",
        "red_cambio_9.add(keras.layers.Dense(C, activation='softmax', name='capa_de_salida'))\n",
        "\n",
        "red_cambio_9.summary()"
      ],
      "metadata": {
        "id": "bhl5ljM8sSzF"
      },
      "execution_count": null,
      "outputs": []
    },
    {
      "cell_type": "code",
      "source": [
        "red_cambio_9.compile(\n",
        "    loss = keras.losses.CategoricalCrossentropy(),\n",
        "    optimizer = keras.optimizers.SGD(learning_rate = 0.01, momentum=0.9),\n",
        "    metrics = [\"accuracy\", tf.keras.metrics.Precision(name='precision'), tf.keras.metrics.Recall(name='recall')]\n",
        ")"
      ],
      "metadata": {
        "id": "KWv2JEYXsS-H"
      },
      "execution_count": null,
      "outputs": []
    },
    {
      "cell_type": "code",
      "source": [
        "historial_cambio9 = red_cambio_9.fit(\n",
        "    X_train, y_train,\n",
        "    epochs=10,\n",
        "    batch_size=64,\n",
        "    validation_data=(X_test,y_test),\n",
        "    verbose = 1\n",
        ")"
      ],
      "metadata": {
        "id": "xEYJC89fsTLg"
      },
      "execution_count": null,
      "outputs": []
    },
    {
      "cell_type": "markdown",
      "source": [
        "## Comparación"
      ],
      "metadata": {
        "id": "mu5bpM4pr2eK"
      }
    },
    {
      "cell_type": "markdown",
      "source": [
        "### Métricas"
      ],
      "metadata": {
        "id": "k1dA_qzBr8NZ"
      }
    },
    {
      "cell_type": "code",
      "source": [
        "# Comparar las métricas\n",
        "df_comparacion = comparar_metricas_modelos(historiales, nombres_modelos, 'Cambio_8', 'Cambio_9')\n",
        "\n",
        "# Mostrar el DataFrame\n",
        "df_comparacion"
      ],
      "metadata": {
        "id": "7FYgiimvsTlo"
      },
      "execution_count": null,
      "outputs": []
    },
    {
      "cell_type": "markdown",
      "source": [
        "### Visualización"
      ],
      "metadata": {
        "id": "of8b6XJMsCQU"
      }
    },
    {
      "cell_type": "code",
      "source": [
        "comparar_modelos(historial_cambio8, historial_cambio9, 'Batchsize 64', 'Aumento de capas (batchsize 64)')"
      ],
      "metadata": {
        "id": "3_sAXDC8sT2J"
      },
      "execution_count": null,
      "outputs": []
    },
    {
      "cell_type": "markdown",
      "source": [
        "## Cambio 10"
      ],
      "metadata": {
        "id": "0Y0T1EFQrp7r"
      }
    },
    {
      "cell_type": "markdown",
      "source": [
        "En esta etapa se evalúa el impacto de ampliar el número de épocas a 20, manteniendo un batch size de 64 y 6 capas ocultas. Este cambio pretende permitir una mayor exploración del espacio de soluciones por parte del modelo, lo que podría derivar en una mejor convergencia, especialmente si el modelo no logra estabilizarse en solo 10 épocas. El objetivo es identificar si el rendimiento mejora o si comienza a evidenciarse un sobreajuste."
      ],
      "metadata": {
        "id": "Bvjwg7c_sUXG"
      }
    },
    {
      "cell_type": "markdown",
      "source": [
        "| Experimento | Optimizer       | Épocas | Batch Size |F. activación| Dropout | N° de capas   | F. salida|Learning rate| F. de peridida|\n",
        "|-------------|-----------------|--------|------------|-------------|---------|--------------|----------|-------------|---------------|\n",
        "| Cambio 10    | SGD con Momentum|**`20`**      |64          |relu         |0        |6           | softmax |0.01| categorical_crossentropy|"
      ],
      "metadata": {
        "id": "YgpQlNvlsUk3"
      }
    },
    {
      "cell_type": "code",
      "source": [
        "# Red feed-forward\n",
        "red_cambio_10 = keras.Sequential(name = \"Cambio_10\")\n",
        "red_cambio_10.add(keras.layers.Input(shape=(N,), name=\"capa_entrada\"))\n",
        "red_cambio_10.add(keras.layers.Dense(h1, activation=\"relu\", name=\"capa_oculta_1\"))\n",
        "red_cambio_10.add(keras.layers.Dense(h2, activation=\"relu\", name=\"capa_oculta_2\"))\n",
        "red_cambio_10.add(keras.layers.Dense(h3, activation=\"relu\", name=\"capa_oculta_3\"))\n",
        "red_cambio_10.add(keras.layers.Dense(h4, activation=\"relu\", name=\"capa_oculta_4\"))\n",
        "red_cambio_10.add(keras.layers.Dense(C, activation='softmax', name='capa_de_salida'))\n",
        "\n",
        "red_cambio_10.summary()"
      ],
      "metadata": {
        "id": "eum97ZxYsU4I"
      },
      "execution_count": null,
      "outputs": []
    },
    {
      "cell_type": "code",
      "source": [
        "red_cambio_10.compile(\n",
        "    loss = keras.losses.CategoricalCrossentropy(),\n",
        "    optimizer = keras.optimizers.SGD(learning_rate = 0.01, momentum=0.9),\n",
        "    metrics = [\"accuracy\", tf.keras.metrics.Precision(name='precision'), tf.keras.metrics.Recall(name='recall')]\n",
        ")"
      ],
      "metadata": {
        "id": "0cg_8cnYsVHN"
      },
      "execution_count": null,
      "outputs": []
    },
    {
      "cell_type": "code",
      "source": [
        "historial_cambio10 = red_cambio_10.fit(\n",
        "    X_train, y_train,\n",
        "    epochs=20,\n",
        "    batch_size=64,\n",
        "    validation_data=(X_test,y_test),\n",
        "    verbose = 1\n",
        ")"
      ],
      "metadata": {
        "id": "p_oO8QyIsVVu"
      },
      "execution_count": null,
      "outputs": []
    },
    {
      "cell_type": "markdown",
      "source": [
        "## Comparación"
      ],
      "metadata": {
        "id": "ciaG6Jy7r26h"
      }
    },
    {
      "cell_type": "markdown",
      "source": [
        "### Métricas"
      ],
      "metadata": {
        "id": "1SbhgFPUr9TS"
      }
    },
    {
      "cell_type": "code",
      "source": [
        "# Comparar las métricas\n",
        "df_comparacion = comparar_metricas_modelos(historiales, nombres_modelos, 'Cambio_9', 'Cambio_10')\n",
        "\n",
        "# Mostrar el DataFrame\n",
        "df_comparacion"
      ],
      "metadata": {
        "id": "OA6mbpAlsV64"
      },
      "execution_count": null,
      "outputs": []
    },
    {
      "cell_type": "markdown",
      "source": [
        "### Visualización"
      ],
      "metadata": {
        "id": "zQ9JnpvWsBrF"
      }
    },
    {
      "cell_type": "code",
      "source": [
        "comparar_modelos(historial_cambio8, historial_cambio10, 'Épocas (10)', 'Épocas (20)')"
      ],
      "metadata": {
        "id": "JPmi3IbtsWLl"
      },
      "execution_count": null,
      "outputs": []
    },
    {
      "cell_type": "markdown",
      "source": [
        "## Cambio 11"
      ],
      "metadata": {
        "id": "q9BN4B1QrqJJ"
      }
    },
    {
      "cell_type": "markdown",
      "source": [
        "Este experimento incorpora una capa de dropout con una tasa del 20 %, con el fin de reducir el riesgo de sobreajuste al forzar a la red a no depender excesivamente de ciertas neuronas durante el entrenamiento. La arquitectura, epochs, batch size y resto de hiperparámetros permanecen constantes. Este cambio permitirá observar cómo la regularización mediante dropout mejora la generalización del modelo."
      ],
      "metadata": {
        "id": "mO9B8Fl8sWhm"
      }
    },
    {
      "cell_type": "markdown",
      "source": [
        "| Experimento | Optimizer       | Épocas | Batch Size |F. activación| Dropout | N° de capas   | F. salida|Learning rate| F. de peridida|\n",
        "|-------------|-----------------|--------|------------|-------------|---------|--------------|----------|-------------|---------------|\n",
        "| Cambio 11    | SGD con Momentum|20      |64          |relu         |**`0.2`**        |6           | softmax |0.01| categorical_crossentropy|"
      ],
      "metadata": {
        "id": "KIx7oGg9sWu6"
      }
    },
    {
      "cell_type": "code",
      "source": [
        "# Red feed-forward\n",
        "red_cambio_11 = keras.Sequential(name = \"Cambio_11\")\n",
        "red_cambio_11.add(keras.layers.Input(shape=(N,), name=\"capa_entrada\"))\n",
        "red_cambio_11.add(keras.layers.Dense(h1, activation=\"relu\", name=\"capa_oculta_1\"))\n",
        "red_cambio_11.add(keras.layers.Dense(h2, activation=\"relu\", name=\"capa_oculta_2\"))\n",
        "red_cambio_11.add(keras.layers.Dropout(0.2))\n",
        "red_cambio_11.add(keras.layers.Dense(h3, activation=\"relu\", name=\"capa_oculta_3\"))\n",
        "red_cambio_11.add(keras.layers.Dense(h4, activation=\"relu\", name=\"capa_oculta_4\"))\n",
        "red_cambio_11.add(keras.layers.Dense(C, activation='softmax', name='capa_de_salida'))\n",
        "\n",
        "red_cambio_11.summary()"
      ],
      "metadata": {
        "id": "7FPkBeNfsYJI"
      },
      "execution_count": null,
      "outputs": []
    },
    {
      "cell_type": "code",
      "source": [
        "red_cambio_11.compile(\n",
        "    loss = keras.losses.CategoricalCrossentropy(),\n",
        "    optimizer = keras.optimizers.SGD(learning_rate = 0.01, momentum=0.9),\n",
        "    metrics = [\"accuracy\", tf.keras.metrics.Precision(name='precision'), tf.keras.metrics.Recall(name='recall')]\n",
        ")"
      ],
      "metadata": {
        "id": "XL9xg-ySsYce"
      },
      "execution_count": null,
      "outputs": []
    },
    {
      "cell_type": "code",
      "source": [
        "historial_cambio11 = red_cambio_11.fit(\n",
        "    X_train, y_train,\n",
        "    epochs=20,\n",
        "    batch_size=64,\n",
        "    validation_data=(X_test,y_test),\n",
        "    verbose = 1\n",
        ")"
      ],
      "metadata": {
        "id": "ftSA7V0XsYoQ"
      },
      "execution_count": null,
      "outputs": []
    },
    {
      "cell_type": "markdown",
      "source": [
        "## Comparación"
      ],
      "metadata": {
        "id": "hOJrRt-er3dN"
      }
    },
    {
      "cell_type": "markdown",
      "source": [
        "### Métricas"
      ],
      "metadata": {
        "id": "skicfR47r-Dk"
      }
    },
    {
      "cell_type": "code",
      "source": [
        "# Comparar las métricas\n",
        "df_comparacion = comparar_metricas_modelos(historiales, nombres_modelos, 'Cambio_10', 'Cambio_11')\n",
        "\n",
        "# Mostrar el DataFrame\n",
        "df_comparacion"
      ],
      "metadata": {
        "id": "EiWvSBZQsZNR"
      },
      "execution_count": null,
      "outputs": []
    },
    {
      "cell_type": "markdown",
      "source": [
        "### Visualización"
      ],
      "metadata": {
        "id": "mHI8eqU1sBOw"
      }
    },
    {
      "cell_type": "code",
      "source": [
        "comparar_modelos(historial_cambio10, historial_cambio11, 'Sin Dropout', 'Con Dropout')"
      ],
      "metadata": {
        "id": "gI6wF2lXsZjn"
      },
      "execution_count": null,
      "outputs": []
    },
    {
      "cell_type": "markdown",
      "source": [
        "## Cambio 12"
      ],
      "metadata": {
        "id": "7i0BLT-Yrrpe"
      }
    },
    {
      "cell_type": "markdown",
      "source": [
        "Finalmente, en el Cambio 12 se evalúa un mayor nivel de regularización aplicando dropout del 40 %, buscando comparar su efecto frente al dropout de 20 % del experimento anterior. Un valor elevado de dropout puede proteger contra el sobreajuste, pero también corre el riesgo de dificultar el aprendizaje si se eliminan demasiadas conexiones. Este experimento permite encontrar un balance adecuado en la tasa de desactivación de neuronas."
      ],
      "metadata": {
        "id": "cMCvGt9bsZ0N"
      }
    },
    {
      "cell_type": "markdown",
      "source": [
        "| Experimento | Optimizer       | Épocas | Batch Size |F. activación| Dropout | N° de capas   | F. salida|Learning rate| F. de peridida|\n",
        "|-------------|-----------------|--------|------------|-------------|---------|--------------|----------|-------------|---------------|\n",
        "| Cambio 12    | SGD con Momentum|20      |64          |relu         |**`0.4`**        |6           | softmax |0.01| categorical_crossentropy|"
      ],
      "metadata": {
        "id": "ecOFVecCsaEg"
      }
    },
    {
      "cell_type": "code",
      "source": [
        "# Red feed-forward\n",
        "red_cambio_12 = keras.Sequential(name = \"Cambio_12\")\n",
        "red_cambio_12.add(keras.layers.Input(shape=(N,), name=\"capa_entrada\"))\n",
        "red_cambio_12.add(keras.layers.Dense(h1, activation=\"relu\", name=\"capa_oculta_1\"))\n",
        "red_cambio_12.add(keras.layers.Dense(h2, activation=\"relu\", name=\"capa_oculta_2\"))\n",
        "red_cambio_12.add(keras.layers.Dropout(0.4))\n",
        "red_cambio_12.add(keras.layers.Dense(h3, activation=\"relu\", name=\"capa_oculta_3\"))\n",
        "red_cambio_12.add(keras.layers.Dense(h4, activation=\"relu\", name=\"capa_oculta_4\"))\n",
        "red_cambio_12.add(keras.layers.Dense(C, activation='softmax', name='capa_de_salida'))\n",
        "\n",
        "red_cambio_12.summary()"
      ],
      "metadata": {
        "id": "flRITV4gsam9"
      },
      "execution_count": null,
      "outputs": []
    },
    {
      "cell_type": "code",
      "source": [
        "red_cambio_12.compile(\n",
        "    loss = keras.losses.CategoricalCrossentropy(),\n",
        "    optimizer = keras.optimizers.SGD(learning_rate = 0.01, momentum=0.9),\n",
        "    metrics = [\"accuracy\", tf.keras.metrics.Precision(name='precision'), tf.keras.metrics.Recall(name='recall')]\n",
        ")"
      ],
      "metadata": {
        "id": "Qo5Frxwvsa3q"
      },
      "execution_count": null,
      "outputs": []
    },
    {
      "cell_type": "code",
      "source": [
        "historial_cambio12 = red_cambio_12.fit(\n",
        "    X_train, y_train,\n",
        "    epochs=20,\n",
        "    batch_size=64,\n",
        "    validation_data=(X_test,y_test),\n",
        "    verbose = 1\n",
        ")"
      ],
      "metadata": {
        "id": "KSjtnIgjsbCf"
      },
      "execution_count": null,
      "outputs": []
    },
    {
      "cell_type": "markdown",
      "source": [
        "## Comparación"
      ],
      "metadata": {
        "id": "kbtRhdf7r3tj"
      }
    },
    {
      "cell_type": "markdown",
      "source": [
        "### Métricas"
      ],
      "metadata": {
        "id": "TP_Ssk2Qr-oQ"
      }
    },
    {
      "cell_type": "code",
      "source": [
        "# Comparar las métricas\n",
        "df_comparacion = comparar_metricas_modelos(historiales, nombres_modelos, 'Cambio_11', 'Cambio_12')\n",
        "\n",
        "# Mostrar el DataFrame\n",
        "df_comparacion"
      ],
      "metadata": {
        "id": "AmChnWP8sbu8"
      },
      "execution_count": null,
      "outputs": []
    },
    {
      "cell_type": "markdown",
      "source": [
        "### Visualización"
      ],
      "metadata": {
        "id": "zjn-yE0gsAmg"
      }
    },
    {
      "cell_type": "code",
      "source": [
        "comparar_modelos(historial_cambio11, historial_cambio12, 'Dropout (0.02)', 'Dropout (0.04)')"
      ],
      "metadata": {
        "id": "q1HW_uKmsb-5"
      },
      "execution_count": null,
      "outputs": []
    },
    {
      "cell_type": "markdown",
      "source": [
        "#Análisis de Mejora y Ajustes Finales\n",
        "\n"
      ],
      "metadata": {
        "id": "tSFJs7i5igJq"
      }
    },
    {
      "cell_type": "markdown",
      "source": [
        "##Comparación de configuraciones"
      ],
      "metadata": {
        "id": "cDDGFxfXizdl"
      }
    },
    {
      "cell_type": "markdown",
      "source": [
        "##Conclusiones de los experimentos"
      ],
      "metadata": {
        "id": "QDwBoySLizcD"
      }
    },
    {
      "cell_type": "markdown",
      "source": [
        "#Conclusiones y Trabajo Futuro"
      ],
      "metadata": {
        "id": "YaBa1EsJihqY"
      }
    },
    {
      "cell_type": "markdown",
      "source": [
        "##Resumen de hallazgos"
      ],
      "metadata": {
        "id": "Y9PKVHgBi9mx"
      }
    },
    {
      "cell_type": "markdown",
      "source": [
        "##Propuestas de mejora"
      ],
      "metadata": {
        "id": "k_mjuNGii-ty"
      }
    }
  ]
}