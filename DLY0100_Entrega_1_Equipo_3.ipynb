{
  "nbformat": 4,
  "nbformat_minor": 0,
  "metadata": {
    "colab": {
      "provenance": [],
      "toc_visible": true
    },
    "kernelspec": {
      "name": "python3",
      "display_name": "Python 3"
    },
    "language_info": {
      "name": "python"
    }
  },
  "cells": [
    {
      "cell_type": "markdown",
      "source": [
        "# Evaluación 1 - Entrenando redes feedforward\n",
        "\n",
        "**Autores:**\n",
        "\n",
        "+ Nombre autor 1\n",
        "+ Nombre autor 2\n",
        "\n",
        "**Correos Electrónicos:**\n",
        "\n",
        "+ Correo autor 1\n",
        "+ Correo autor 2\n",
        "\n",
        "**Fecha de Creación:** Abril de 2025  \n",
        "**Versión:** 1.0  \n",
        "\n",
        "---\n",
        "\n",
        "## Descripción\n",
        "\n",
        "Este notebook contiene el desarrollo de la evaluación 1 de la asignatura de Deep Learning de la carrera de Ingeniería en Informática de DuocUC sede Concepción.\n",
        "\n",
        "---\n",
        "\n",
        "## Requisitos de Software\n",
        "\n",
        "Este notebook fue desarrollado con Python ..."
      ],
      "metadata": {
        "id": "UN-PzEVlUarQ"
      }
    },
    {
      "cell_type": "markdown",
      "source": [
        "#Introducción"
      ],
      "metadata": {
        "id": "GvqolHhbhOzR"
      }
    },
    {
      "cell_type": "markdown",
      "source": [
        "##Descripción del problema y objetivos"
      ],
      "metadata": {
        "id": "qjQJSQaLhedY"
      }
    },
    {
      "cell_type": "markdown",
      "source": [
        "##Justificación del enfoque"
      ],
      "metadata": {
        "id": "y_r9RZKIhjvb"
      }
    },
    {
      "cell_type": "markdown",
      "source": [
        "# Carga de datos"
      ],
      "metadata": {
        "id": "ENUt5lPZVB7S"
      }
    },
    {
      "cell_type": "code",
      "source": [
        "!rm -f train-images-idx3-ubyte.gz train-labels-idx1-ubyte.gz t10k-images-idx3-ubyte.gz t10k-labels-idx1-ubyte.gz\n",
        "\n",
        "!wget https://storage.googleapis.com/cvdf-datasets/mnist/train-images-idx3-ubyte.gz\n",
        "!wget https://storage.googleapis.com/cvdf-datasets/mnist/train-labels-idx1-ubyte.gz\n",
        "!wget https://storage.googleapis.com/cvdf-datasets/mnist/t10k-images-idx3-ubyte.gz\n",
        "!wget https://storage.googleapis.com/cvdf-datasets/mnist/t10k-labels-idx1-ubyte.gz\n"
      ],
      "metadata": {
        "colab": {
          "base_uri": "https://localhost:8080/"
        },
        "id": "kxMJlHIbbGrZ",
        "outputId": "7e225f8c-dab9-47e2-bd69-4d23ba44f76b"
      },
      "execution_count": null,
      "outputs": [
        {
          "output_type": "stream",
          "name": "stdout",
          "text": [
            "--2025-04-06 14:02:56--  https://storage.googleapis.com/cvdf-datasets/mnist/train-images-idx3-ubyte.gz\n",
            "Resolving storage.googleapis.com (storage.googleapis.com)... 74.125.23.207, 74.125.203.207, 74.125.204.207, ...\n",
            "Connecting to storage.googleapis.com (storage.googleapis.com)|74.125.23.207|:443... connected.\n",
            "HTTP request sent, awaiting response... 200 OK\n",
            "Length: 9912422 (9.5M) [application/x-gzip]\n",
            "Saving to: ‘train-images-idx3-ubyte.gz’\n",
            "\n",
            "train-images-idx3-u 100%[===================>]   9.45M  6.51MB/s    in 1.5s    \n",
            "\n",
            "2025-04-06 14:02:59 (6.51 MB/s) - ‘train-images-idx3-ubyte.gz’ saved [9912422/9912422]\n",
            "\n",
            "--2025-04-06 14:02:59--  https://storage.googleapis.com/cvdf-datasets/mnist/train-labels-idx1-ubyte.gz\n",
            "Resolving storage.googleapis.com (storage.googleapis.com)... 74.125.23.207, 74.125.203.207, 74.125.204.207, ...\n",
            "Connecting to storage.googleapis.com (storage.googleapis.com)|74.125.23.207|:443... connected.\n",
            "HTTP request sent, awaiting response... 200 OK\n",
            "Length: 28881 (28K) [application/x-gzip]\n",
            "Saving to: ‘train-labels-idx1-ubyte.gz’\n",
            "\n",
            "train-labels-idx1-u 100%[===================>]  28.20K  --.-KB/s    in 0.01s   \n",
            "\n",
            "2025-04-06 14:03:00 (2.71 MB/s) - ‘train-labels-idx1-ubyte.gz’ saved [28881/28881]\n",
            "\n",
            "--2025-04-06 14:03:00--  https://storage.googleapis.com/cvdf-datasets/mnist/t10k-images-idx3-ubyte.gz\n",
            "Resolving storage.googleapis.com (storage.googleapis.com)... 74.125.23.207, 74.125.203.207, 74.125.204.207, ...\n",
            "Connecting to storage.googleapis.com (storage.googleapis.com)|74.125.23.207|:443... connected.\n",
            "HTTP request sent, awaiting response... 200 OK\n",
            "Length: 1648877 (1.6M) [application/x-gzip]\n",
            "Saving to: ‘t10k-images-idx3-ubyte.gz’\n",
            "\n",
            "t10k-images-idx3-ub 100%[===================>]   1.57M  1.52MB/s    in 1.0s    \n",
            "\n",
            "2025-04-06 14:03:02 (1.52 MB/s) - ‘t10k-images-idx3-ubyte.gz’ saved [1648877/1648877]\n",
            "\n",
            "--2025-04-06 14:03:02--  https://storage.googleapis.com/cvdf-datasets/mnist/t10k-labels-idx1-ubyte.gz\n",
            "Resolving storage.googleapis.com (storage.googleapis.com)... 74.125.23.207, 74.125.203.207, 74.125.204.207, ...\n",
            "Connecting to storage.googleapis.com (storage.googleapis.com)|74.125.23.207|:443... connected.\n",
            "HTTP request sent, awaiting response... 200 OK\n",
            "Length: 4542 (4.4K) [application/x-gzip]\n",
            "Saving to: ‘t10k-labels-idx1-ubyte.gz’\n",
            "\n",
            "t10k-labels-idx1-ub 100%[===================>]   4.44K  --.-KB/s    in 0s      \n",
            "\n",
            "2025-04-06 14:03:03 (54.8 MB/s) - ‘t10k-labels-idx1-ubyte.gz’ saved [4542/4542]\n",
            "\n"
          ]
        }
      ]
    },
    {
      "cell_type": "code",
      "source": [
        "!ls -lh"
      ],
      "metadata": {
        "colab": {
          "base_uri": "https://localhost:8080/"
        },
        "id": "Gqalukc4a-h-",
        "outputId": "785b9a0d-740f-44f6-ac0e-6f586e4dfe9a"
      },
      "execution_count": null,
      "outputs": [
        {
          "output_type": "stream",
          "name": "stdout",
          "text": [
            "total 12M\n",
            "drwxr-xr-x 1 root root 4.0K Apr  3 13:37 sample_data\n",
            "-rw-r--r-- 1 root root 1.6M Apr  6  2017 t10k-images-idx3-ubyte.gz\n",
            "-rw-r--r-- 1 root root 4.5K Apr  6  2017 t10k-labels-idx1-ubyte.gz\n",
            "-rw-r--r-- 1 root root 9.5M Apr  6  2017 train-images-idx3-ubyte.gz\n",
            "-rw-r--r-- 1 root root  29K Apr  6  2017 train-labels-idx1-ubyte.gz\n"
          ]
        }
      ]
    },
    {
      "cell_type": "code",
      "source": [
        "import gzip\n",
        "import shutil\n",
        "import struct\n",
        "import numpy as np\n",
        "import matplotlib.pyplot as plt\n",
        "import tensorflow as tf\n",
        "\n",
        "from tensorflow import keras\n",
        "# Asegurar que las etiquetas están en formato correcto\n",
        "from keras.utils import to_categorical"
      ],
      "metadata": {
        "id": "1pe8o5xqVHCb"
      },
      "execution_count": null,
      "outputs": []
    },
    {
      "cell_type": "markdown",
      "source": [
        "# Carga y Preprocesamiento de Datos"
      ],
      "metadata": {
        "id": "RhqgOKDsi_KF"
      }
    },
    {
      "cell_type": "code",
      "source": [
        "# Función para cargar imágenes MNIST\n",
        "def load_mnist_images(filename):\n",
        "    with gzip.open(filename, 'rb') as f:\n",
        "        data = np.frombuffer(f.read(), np.uint8, offset=16)  # Saltar los primeros 16 bytes del encabezado\n",
        "    return data.reshape(-1, 28 * 28).astype(\"float32\") / 255.0  # Aplanar y normalizar\n",
        "\n",
        "# Función para cargar etiquetas MNIST\n",
        "def load_mnist_labels(filename):\n",
        "    with gzip.open(filename, 'rb') as f:\n",
        "        labels = np.frombuffer(f.read(), np.uint8, offset=8)  # Saltar los primeros 8 bytes del encabezado\n",
        "    return keras.utils.to_categorical(labels, 10)  # One-hot encoding para clasificación\n",
        "\n",
        "# Cargar los datos\n",
        "X_train = load_mnist_images(\"train-images-idx3-ubyte.gz\")\n",
        "y_train = load_mnist_labels(\"train-labels-idx1-ubyte.gz\")\n",
        "X_test = load_mnist_images(\"t10k-images-idx3-ubyte.gz\")\n",
        "y_test = load_mnist_labels(\"t10k-labels-idx1-ubyte.gz\")\n",
        "\n",
        "# Verificar dimensiones\n",
        "print(f\"X_train: {X_train.shape}, y_train: {y_train.shape}\")\n",
        "print(f\"X_test: {X_test.shape}, y_test: {y_test.shape}\")\n"
      ],
      "metadata": {
        "colab": {
          "base_uri": "https://localhost:8080/"
        },
        "id": "Li3QsYm-UKEq",
        "outputId": "4f24f2b3-aa27-41e2-9391-37faa2f4ee88"
      },
      "execution_count": null,
      "outputs": [
        {
          "output_type": "stream",
          "name": "stdout",
          "text": [
            "X_train: (60000, 784), y_train: (60000, 10)\n",
            "X_test: (10000, 784), y_test: (10000, 10)\n"
          ]
        }
      ]
    },
    {
      "cell_type": "markdown",
      "source": [
        "##Muestra imágenes"
      ],
      "metadata": {
        "id": "XDdBrx6ji1tV"
      }
    },
    {
      "cell_type": "code",
      "source": [
        "# Escriba su código acá"
      ],
      "metadata": {
        "id": "CUqCJOJRUXRo"
      },
      "execution_count": null,
      "outputs": []
    },
    {
      "cell_type": "markdown",
      "source": [
        "##Preprocesamiento"
      ],
      "metadata": {
        "id": "foeYo7oJh9_a"
      }
    },
    {
      "cell_type": "markdown",
      "source": [
        "#Definición del Modelo (Arquitectura MLP)"
      ],
      "metadata": {
        "id": "PFfhg9kuiDyp"
      }
    },
    {
      "cell_type": "code",
      "source": [],
      "metadata": {
        "id": "xIHbA7FojhoD"
      },
      "execution_count": null,
      "outputs": []
    },
    {
      "cell_type": "markdown",
      "source": [
        "##Diseño de la red"
      ],
      "metadata": {
        "id": "OaGQURpiiKYV"
      }
    },
    {
      "cell_type": "markdown",
      "source": [
        "| Experimento | Optimizer       | Épocas | Batch Size | Dropout | Arquitectura |\n",
        "|-------------|-----------------|--------|------------|---------|--------------|\n",
        "| Baseline    | Adam            |20      |32          |0        |256           |\n",
        "| Baseline    | SGD con Momentum|20      |32          |0        |256           |\n",
        "| Cambio 1    | Adam            |40      |32          |0        |256           |\n",
        "| Cambio 1    | SGD con Momentum|40      |32          |0        |256           |\n",
        "| Cambio 2    | Adam            |40      |64          |0        |256           |\n",
        "| Cambio 2    | SGD con Momentum|40      |64          |0        |256           |\n",
        "| Cambio 3    | Adam            |80      |64          |0        |256           |\n",
        "| Cambio 3    | SGD con Momentum|80      |64          |0        |256           |\n",
        "| Cambio 4    | Adam            |80      |64          |0.2      |256           |\n",
        "| Cambio 4    | SGD con Momentum|80      |64          |0.2      |256           |\n",
        "| Cambio 5    | Adam            |80      |64          |0.4      |256           |\n",
        "| Cambio 5    | SGD con Momentum|80      |64          |0.4      |256           |"
      ],
      "metadata": {
        "id": "7RkQRzGqjXqd"
      }
    },
    {
      "cell_type": "markdown",
      "source": [
        "##Funciones de activación y de error"
      ],
      "metadata": {
        "id": "pbPOcxTSiLgR"
      }
    },
    {
      "cell_type": "markdown",
      "source": [
        "##Incorporación de técnicas de optimización"
      ],
      "metadata": {
        "id": "QhIDr71FiLrW"
      }
    },
    {
      "cell_type": "markdown",
      "source": [
        "#Entrenamiento y Ajuste de Hiperparámetros"
      ],
      "metadata": {
        "id": "3xkzboGjicNQ"
      }
    },
    {
      "cell_type": "markdown",
      "source": [
        "#Evaluación del Modelo"
      ],
      "metadata": {
        "id": "5_AOrenRieFu"
      }
    },
    {
      "cell_type": "markdown",
      "source": [
        "##Cálculo de métricas"
      ],
      "metadata": {
        "id": "LDqi1yQhjFR2"
      }
    },
    {
      "cell_type": "markdown",
      "source": [
        "##Tablas comparativas"
      ],
      "metadata": {
        "id": "k7kSoOnsjPL7"
      }
    },
    {
      "cell_type": "markdown",
      "source": [
        "#Análisis de Mejora y Ajustes Finales\n",
        "\n"
      ],
      "metadata": {
        "id": "tSFJs7i5igJq"
      }
    },
    {
      "cell_type": "markdown",
      "source": [
        "##Comparación de configuraciones"
      ],
      "metadata": {
        "id": "cDDGFxfXizdl"
      }
    },
    {
      "cell_type": "markdown",
      "source": [
        "##Conclusiones de los experimentos"
      ],
      "metadata": {
        "id": "QDwBoySLizcD"
      }
    },
    {
      "cell_type": "markdown",
      "source": [
        "#Conclusiones y Trabajo Futuro"
      ],
      "metadata": {
        "id": "YaBa1EsJihqY"
      }
    },
    {
      "cell_type": "markdown",
      "source": [
        "##Resumen de hallazgos"
      ],
      "metadata": {
        "id": "Y9PKVHgBi9mx"
      }
    },
    {
      "cell_type": "markdown",
      "source": [
        "##Propuestas de mejora"
      ],
      "metadata": {
        "id": "k_mjuNGii-ty"
      }
    }
  ]
}